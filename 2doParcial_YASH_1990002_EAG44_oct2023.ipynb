{
 "cells": [
  {
   "cell_type": "markdown",
   "metadata": {},
   "source": [
    "# Segundo parcial EAP\n",
    "\n",
    "Nombre: Yessica Abigail Santiago Hernandez\n",
    "\n",
    "Matricula: 1990002\n",
    "\n",
    "Grupo: 44\n"
   ]
  },
  {
   "cell_type": "code",
   "execution_count": 360,
   "metadata": {},
   "outputs": [],
   "source": [
    "#librerias basicas\n",
    "import numpy as np\n",
    "import pandas as pd\n",
    "import matplotlib.pyplot as plt\n",
    "%matplotlib inline"
   ]
  },
  {
   "cell_type": "code",
   "execution_count": 361,
   "metadata": {},
   "outputs": [],
   "source": [
    "#librerias especializadas\n",
    "from lifelines import CoxPHFitter, KaplanMeierFitter, ExponentialFitter, WeibullFitter,LogNormalFitter\n",
    "import seaborn as sns"
   ]
  },
  {
   "cell_type": "code",
   "execution_count": 362,
   "metadata": {},
   "outputs": [],
   "source": [
    "#base de datos \n",
    "bil = pd.read_csv('https://raw.githubusercontent.com/jimmyzac/Estadistica-Aplicada-FCFM-UANL/main/bases_datos/credit_risk.csv')"
   ]
  },
  {
   "cell_type": "code",
   "execution_count": 363,
   "metadata": {},
   "outputs": [
    {
     "data": {
      "text/html": [
       "<div>\n",
       "<style scoped>\n",
       "    .dataframe tbody tr th:only-of-type {\n",
       "        vertical-align: middle;\n",
       "    }\n",
       "\n",
       "    .dataframe tbody tr th {\n",
       "        vertical-align: top;\n",
       "    }\n",
       "\n",
       "    .dataframe thead th {\n",
       "        text-align: right;\n",
       "    }\n",
       "</style>\n",
       "<table border=\"1\" class=\"dataframe\">\n",
       "  <thead>\n",
       "    <tr style=\"text-align: right;\">\n",
       "      <th></th>\n",
       "      <th>saldo_cuenta</th>\n",
       "      <th>meses</th>\n",
       "      <th>historia_crediticia</th>\n",
       "      <th>uso</th>\n",
       "      <th>cantidad</th>\n",
       "      <th>saldo_cuenta_ahorro</th>\n",
       "      <th>años_trabajando</th>\n",
       "      <th>tasa_de_interes</th>\n",
       "      <th>genero_estado_civil</th>\n",
       "      <th>aval</th>\n",
       "      <th>...</th>\n",
       "      <th>activos</th>\n",
       "      <th>edad</th>\n",
       "      <th>planes_de_pago</th>\n",
       "      <th>casa</th>\n",
       "      <th>numero_creditos</th>\n",
       "      <th>situacion_laboral</th>\n",
       "      <th>dependientes_economicos</th>\n",
       "      <th>telefono</th>\n",
       "      <th>extranjero</th>\n",
       "      <th>credito_pagado</th>\n",
       "    </tr>\n",
       "  </thead>\n",
       "  <tbody>\n",
       "    <tr>\n",
       "      <th>0</th>\n",
       "      <td>menor_a_cero</td>\n",
       "      <td>6</td>\n",
       "      <td>no_ha_pagado</td>\n",
       "      <td>TV</td>\n",
       "      <td>1169</td>\n",
       "      <td>NaN</td>\n",
       "      <td>mas_de_7</td>\n",
       "      <td>4</td>\n",
       "      <td>hombre_soltero</td>\n",
       "      <td>NaN</td>\n",
       "      <td>...</td>\n",
       "      <td>bienes_raices</td>\n",
       "      <td>67</td>\n",
       "      <td>NaN</td>\n",
       "      <td>propia</td>\n",
       "      <td>2</td>\n",
       "      <td>gobierno</td>\n",
       "      <td>1</td>\n",
       "      <td>1</td>\n",
       "      <td>1</td>\n",
       "      <td>1</td>\n",
       "    </tr>\n",
       "    <tr>\n",
       "      <th>1</th>\n",
       "      <td>cero_a_200</td>\n",
       "      <td>48</td>\n",
       "      <td>pago_algun_credito</td>\n",
       "      <td>TV</td>\n",
       "      <td>5951</td>\n",
       "      <td>menor_100</td>\n",
       "      <td>1_a_4</td>\n",
       "      <td>2</td>\n",
       "      <td>mujer_no_soltera</td>\n",
       "      <td>NaN</td>\n",
       "      <td>...</td>\n",
       "      <td>bienes_raices</td>\n",
       "      <td>22</td>\n",
       "      <td>NaN</td>\n",
       "      <td>propia</td>\n",
       "      <td>1</td>\n",
       "      <td>gobierno</td>\n",
       "      <td>1</td>\n",
       "      <td>0</td>\n",
       "      <td>1</td>\n",
       "      <td>0</td>\n",
       "    </tr>\n",
       "    <tr>\n",
       "      <th>2</th>\n",
       "      <td>sin_cuenta</td>\n",
       "      <td>12</td>\n",
       "      <td>no_ha_pagado</td>\n",
       "      <td>colegiaturas</td>\n",
       "      <td>2096</td>\n",
       "      <td>menor_100</td>\n",
       "      <td>4_a_7</td>\n",
       "      <td>2</td>\n",
       "      <td>hombre_soltero</td>\n",
       "      <td>NaN</td>\n",
       "      <td>...</td>\n",
       "      <td>bienes_raices</td>\n",
       "      <td>49</td>\n",
       "      <td>NaN</td>\n",
       "      <td>propia</td>\n",
       "      <td>1</td>\n",
       "      <td>obrero</td>\n",
       "      <td>2</td>\n",
       "      <td>0</td>\n",
       "      <td>1</td>\n",
       "      <td>1</td>\n",
       "    </tr>\n",
       "  </tbody>\n",
       "</table>\n",
       "<p>3 rows × 21 columns</p>\n",
       "</div>"
      ],
      "text/plain": [
       "   saldo_cuenta  meses historia_crediticia           uso  cantidad  \\\n",
       "0  menor_a_cero      6        no_ha_pagado            TV      1169   \n",
       "1    cero_a_200     48  pago_algun_credito            TV      5951   \n",
       "2    sin_cuenta     12        no_ha_pagado  colegiaturas      2096   \n",
       "\n",
       "  saldo_cuenta_ahorro años_trabajando  tasa_de_interes genero_estado_civil  \\\n",
       "0                 NaN        mas_de_7                4      hombre_soltero   \n",
       "1           menor_100           1_a_4                2    mujer_no_soltera   \n",
       "2           menor_100           4_a_7                2      hombre_soltero   \n",
       "\n",
       "  aval  ...        activos edad  planes_de_pago    casa numero_creditos  \\\n",
       "0  NaN  ...  bienes_raices   67             NaN  propia               2   \n",
       "1  NaN  ...  bienes_raices   22             NaN  propia               1   \n",
       "2  NaN  ...  bienes_raices   49             NaN  propia               1   \n",
       "\n",
       "   situacion_laboral dependientes_economicos  telefono  extranjero  \\\n",
       "0           gobierno                       1         1           1   \n",
       "1           gobierno                       1         0           1   \n",
       "2             obrero                       2         0           1   \n",
       "\n",
       "   credito_pagado  \n",
       "0               1  \n",
       "1               0  \n",
       "2               1  \n",
       "\n",
       "[3 rows x 21 columns]"
      ]
     },
     "execution_count": 363,
     "metadata": {},
     "output_type": "execute_result"
    }
   ],
   "source": [
    "bil.head(3)"
   ]
  },
  {
   "cell_type": "markdown",
   "metadata": {},
   "source": [
    "La base de datos proporcionada contiene información relevante sobre cada préstamo. \n",
    "\n",
    "1. **\"crédito_pagado\"**: toma el valor de 1 si el cliente ha pagado completamente el préstamo y 0 si no lo ha hecho o aún no ha terminado de pagar. \n",
    "\n",
    "2. **\"meses\"**: información sobre el tiempo en meses que lleva pagar completamente el préstamo\n",
    "\n",
    "3. **\"cantidad\"**: monto del préstamo otorgado en euros"
   ]
  },
  {
   "cell_type": "markdown",
   "metadata": {},
   "source": [
    "## Analisis exploratorio"
   ]
  },
  {
   "cell_type": "markdown",
   "metadata": {},
   "source": [
    "1. Cuantas variables y cuantas observaciones tienen la base"
   ]
  },
  {
   "cell_type": "code",
   "execution_count": 364,
   "metadata": {},
   "outputs": [
    {
     "name": "stdout",
     "output_type": "stream",
     "text": [
      "El numero de variables es de 21\n",
      "Y el numero de observaciones es de 1000\n"
     ]
    }
   ],
   "source": [
    "#Numero de variables  \n",
    "var = bil.columns\n",
    "\n",
    "#numero de observaciones \n",
    "obs = bil.count(axis=1)\n",
    "\n",
    "#respuesta\n",
    "print(f'El numero de variables es de {len(var)}\\nY el numero de observaciones es de {len(obs)}')"
   ]
  },
  {
   "cell_type": "markdown",
   "metadata": {},
   "source": [
    "2. Cuál es el monto promedio de los créditos otorgados por el banco"
   ]
  },
  {
   "cell_type": "code",
   "execution_count": 365,
   "metadata": {},
   "outputs": [
    {
     "name": "stdout",
     "output_type": "stream",
     "text": [
      "El monto promedio de los creditos otorgados por el banco es de 3271.26\n"
     ]
    }
   ],
   "source": [
    "mp = bil['cantidad'].mean().round(2)\n",
    "\n",
    "#respuesta\n",
    "print(f'El monto promedio de los creditos otorgados por el banco es de {mp}')"
   ]
  },
  {
   "cell_type": "markdown",
   "metadata": {},
   "source": [
    "3. Cuál es el tiempo promedio que se tardaron en pagar el préstamo los \n",
    "que pagaron el préstamo en su totalidad\n"
   ]
  },
  {
   "cell_type": "code",
   "execution_count": 366,
   "metadata": {},
   "outputs": [
    {
     "name": "stdout",
     "output_type": "stream",
     "text": [
      "El promedio de tiempo que se tardaron los clientes en pagar el prestamo es de 19.21 meses\n"
     ]
    }
   ],
   "source": [
    "#base de datos filtrada por los usuarios que ya pagaron \n",
    "bilp = bil.query('credito_pagado == 1') \n",
    "\n",
    "#tiempo promedio\n",
    "pt = bilp['meses'].mean().round(2)\n",
    "\n",
    "#respuesta \n",
    "print(f'El promedio de tiempo que se tardaron los clientes en pagar el prestamo es de {pt} meses')"
   ]
  },
  {
   "cell_type": "markdown",
   "metadata": {},
   "source": [
    "4. Cuál es la tasa de interés promedio otorgada por el banco"
   ]
  },
  {
   "cell_type": "code",
   "execution_count": 367,
   "metadata": {},
   "outputs": [
    {
     "name": "stdout",
     "output_type": "stream",
     "text": [
      "La tasa de interes promedio que ofrece el banco es de 2.97%\n"
     ]
    }
   ],
   "source": [
    "pi = bil['tasa_de_interes'].mean().round(2)\n",
    "\n",
    "#respuest\n",
    "print(f'La tasa de interes promedio que ofrece el banco es de {pi}%')"
   ]
  },
  {
   "cell_type": "markdown",
   "metadata": {},
   "source": [
    "5. Cuál es el monto promedio y la tasa de interés promedio de los que ya pagaron"
   ]
  },
  {
   "cell_type": "code",
   "execution_count": 368,
   "metadata": {},
   "outputs": [
    {
     "name": "stdout",
     "output_type": "stream",
     "text": [
      "El monto promedio en usuarios que ya pagaron su deuda es de: 2985.46 unidades monetarias\n",
      "La tasa promedio en usuarios que ya pagaron su deuda es de 2.92%\n"
     ]
    }
   ],
   "source": [
    "#monto promedio \n",
    "mpp = bilp['cantidad'].mean().round(2)\n",
    "#tasa promedio \n",
    "tpp = bilp['tasa_de_interes'].mean().round(2)\n",
    "\n",
    "#respuesta \n",
    "print(f'El monto promedio en usuarios que ya pagaron su deuda es de: {mpp} unidades monetarias\\nLa tasa promedio en usuarios que ya pagaron su deuda es de {tpp}%')"
   ]
  },
  {
   "cell_type": "markdown",
   "metadata": {},
   "source": [
    "6. Cuál es el monto promedio y la tasa de interés promedio de los que no han pagado "
   ]
  },
  {
   "cell_type": "code",
   "execution_count": 369,
   "metadata": {},
   "outputs": [
    {
     "name": "stdout",
     "output_type": "stream",
     "text": [
      "El monto promedio en usuarios que no han pagado su deuda es de: 3938.13 unidades monetarias\n",
      "La tasa promedio en usuarios que no han pagado su deuda es de 3.1%\n"
     ]
    }
   ],
   "source": [
    "#base de datos filtrada por los usuarios que ya pagaron \n",
    "bilnp = bil.query('credito_pagado == 0')\n",
    "#monto promedio \n",
    "mpnp = bilnp['cantidad'].mean().round(2)\n",
    "#tasa promedio \n",
    "tpnp = bilnp['tasa_de_interes'].mean().round(2)\n",
    "\n",
    "#respuesta \n",
    "print(f'El monto promedio en usuarios que no han pagado su deuda es de: {mpnp} unidades monetarias\\nLa tasa promedio en usuarios que no han pagado su deuda es de {tpnp}%')"
   ]
  },
  {
   "cell_type": "markdown",
   "metadata": {},
   "source": [
    "## Modelo de kaplan-Meier "
   ]
  },
  {
   "cell_type": "code",
   "execution_count": 370,
   "metadata": {},
   "outputs": [
    {
     "data": {
      "text/html": [
       "<div>\n",
       "<style scoped>\n",
       "    .dataframe tbody tr th:only-of-type {\n",
       "        vertical-align: middle;\n",
       "    }\n",
       "\n",
       "    .dataframe tbody tr th {\n",
       "        vertical-align: top;\n",
       "    }\n",
       "\n",
       "    .dataframe thead th {\n",
       "        text-align: right;\n",
       "    }\n",
       "</style>\n",
       "<table border=\"1\" class=\"dataframe\">\n",
       "  <thead>\n",
       "    <tr style=\"text-align: right;\">\n",
       "      <th></th>\n",
       "      <th>removed</th>\n",
       "      <th>observed</th>\n",
       "      <th>censored</th>\n",
       "      <th>entrance</th>\n",
       "      <th>at_risk</th>\n",
       "    </tr>\n",
       "    <tr>\n",
       "      <th>event_at</th>\n",
       "      <th></th>\n",
       "      <th></th>\n",
       "      <th></th>\n",
       "      <th></th>\n",
       "      <th></th>\n",
       "    </tr>\n",
       "  </thead>\n",
       "  <tbody>\n",
       "    <tr>\n",
       "      <th>0.0</th>\n",
       "      <td>0</td>\n",
       "      <td>0</td>\n",
       "      <td>0</td>\n",
       "      <td>1000</td>\n",
       "      <td>1000</td>\n",
       "    </tr>\n",
       "    <tr>\n",
       "      <th>4.0</th>\n",
       "      <td>6</td>\n",
       "      <td>6</td>\n",
       "      <td>0</td>\n",
       "      <td>0</td>\n",
       "      <td>1000</td>\n",
       "    </tr>\n",
       "    <tr>\n",
       "      <th>5.0</th>\n",
       "      <td>1</td>\n",
       "      <td>1</td>\n",
       "      <td>0</td>\n",
       "      <td>0</td>\n",
       "      <td>994</td>\n",
       "    </tr>\n",
       "    <tr>\n",
       "      <th>6.0</th>\n",
       "      <td>75</td>\n",
       "      <td>66</td>\n",
       "      <td>9</td>\n",
       "      <td>0</td>\n",
       "      <td>993</td>\n",
       "    </tr>\n",
       "    <tr>\n",
       "      <th>7.0</th>\n",
       "      <td>5</td>\n",
       "      <td>5</td>\n",
       "      <td>0</td>\n",
       "      <td>0</td>\n",
       "      <td>918</td>\n",
       "    </tr>\n",
       "  </tbody>\n",
       "</table>\n",
       "</div>"
      ],
      "text/plain": [
       "          removed  observed  censored  entrance  at_risk\n",
       "event_at                                                \n",
       "0.0             0         0         0      1000     1000\n",
       "4.0             6         6         0         0     1000\n",
       "5.0             1         1         0         0      994\n",
       "6.0            75        66         9         0      993\n",
       "7.0             5         5         0         0      918"
      ]
     },
     "execution_count": 370,
     "metadata": {},
     "output_type": "execute_result"
    }
   ],
   "source": [
    "#modelo kaplan-Meier\n",
    "kmbil = KaplanMeierFitter().fit(bil['meses'],bil['credito_pagado'])\n",
    "\n",
    "kmbil.event_table.head()"
   ]
  },
  {
   "cell_type": "code",
   "execution_count": 371,
   "metadata": {},
   "outputs": [
    {
     "data": {
      "text/html": [
       "<div>\n",
       "<style scoped>\n",
       "    .dataframe tbody tr th:only-of-type {\n",
       "        vertical-align: middle;\n",
       "    }\n",
       "\n",
       "    .dataframe tbody tr th {\n",
       "        vertical-align: top;\n",
       "    }\n",
       "\n",
       "    .dataframe thead th {\n",
       "        text-align: right;\n",
       "    }\n",
       "</style>\n",
       "<table border=\"1\" class=\"dataframe\">\n",
       "  <thead>\n",
       "    <tr style=\"text-align: right;\">\n",
       "      <th></th>\n",
       "      <th>KM_estimate</th>\n",
       "    </tr>\n",
       "    <tr>\n",
       "      <th>timeline</th>\n",
       "      <th></th>\n",
       "    </tr>\n",
       "  </thead>\n",
       "  <tbody>\n",
       "    <tr>\n",
       "      <th>0.0</th>\n",
       "      <td>1.000000</td>\n",
       "    </tr>\n",
       "    <tr>\n",
       "      <th>4.0</th>\n",
       "      <td>0.994000</td>\n",
       "    </tr>\n",
       "    <tr>\n",
       "      <th>5.0</th>\n",
       "      <td>0.993000</td>\n",
       "    </tr>\n",
       "    <tr>\n",
       "      <th>6.0</th>\n",
       "      <td>0.927000</td>\n",
       "    </tr>\n",
       "    <tr>\n",
       "      <th>7.0</th>\n",
       "      <td>0.921951</td>\n",
       "    </tr>\n",
       "    <tr>\n",
       "      <th>8.0</th>\n",
       "      <td>0.915892</td>\n",
       "    </tr>\n",
       "    <tr>\n",
       "      <th>9.0</th>\n",
       "      <td>0.880510</td>\n",
       "    </tr>\n",
       "    <tr>\n",
       "      <th>10.0</th>\n",
       "      <td>0.854824</td>\n",
       "    </tr>\n",
       "    <tr>\n",
       "      <th>11.0</th>\n",
       "      <td>0.845544</td>\n",
       "    </tr>\n",
       "    <tr>\n",
       "      <th>12.0</th>\n",
       "      <td>0.711494</td>\n",
       "    </tr>\n",
       "    <tr>\n",
       "      <th>13.0</th>\n",
       "      <td>0.707054</td>\n",
       "    </tr>\n",
       "    <tr>\n",
       "      <th>14.0</th>\n",
       "      <td>0.703724</td>\n",
       "    </tr>\n",
       "    <tr>\n",
       "      <th>15.0</th>\n",
       "      <td>0.645914</td>\n",
       "    </tr>\n",
       "    <tr>\n",
       "      <th>16.0</th>\n",
       "      <td>0.644779</td>\n",
       "    </tr>\n",
       "    <tr>\n",
       "      <th>18.0</th>\n",
       "      <td>0.564040</td>\n",
       "    </tr>\n",
       "    <tr>\n",
       "      <th>20.0</th>\n",
       "      <td>0.555343</td>\n",
       "    </tr>\n",
       "    <tr>\n",
       "      <th>21.0</th>\n",
       "      <td>0.529195</td>\n",
       "    </tr>\n",
       "    <tr>\n",
       "      <th>22.0</th>\n",
       "      <td>0.526650</td>\n",
       "    </tr>\n",
       "    <tr>\n",
       "      <th>24.0</th>\n",
       "      <td>0.363821</td>\n",
       "    </tr>\n",
       "    <tr>\n",
       "      <th>26.0</th>\n",
       "      <td>0.362239</td>\n",
       "    </tr>\n",
       "    <tr>\n",
       "      <th>27.0</th>\n",
       "      <td>0.349585</td>\n",
       "    </tr>\n",
       "    <tr>\n",
       "      <th>28.0</th>\n",
       "      <td>0.346348</td>\n",
       "    </tr>\n",
       "    <tr>\n",
       "      <th>30.0</th>\n",
       "      <td>0.302445</td>\n",
       "    </tr>\n",
       "    <tr>\n",
       "      <th>33.0</th>\n",
       "      <td>0.298948</td>\n",
       "    </tr>\n",
       "    <tr>\n",
       "      <th>36.0</th>\n",
       "      <td>0.218056</td>\n",
       "    </tr>\n",
       "    <tr>\n",
       "      <th>39.0</th>\n",
       "      <td>0.208031</td>\n",
       "    </tr>\n",
       "    <tr>\n",
       "      <th>40.0</th>\n",
       "      <td>0.208031</td>\n",
       "    </tr>\n",
       "    <tr>\n",
       "      <th>42.0</th>\n",
       "      <td>0.187485</td>\n",
       "    </tr>\n",
       "    <tr>\n",
       "      <th>45.0</th>\n",
       "      <td>0.184806</td>\n",
       "    </tr>\n",
       "    <tr>\n",
       "      <th>47.0</th>\n",
       "      <td>0.181963</td>\n",
       "    </tr>\n",
       "    <tr>\n",
       "      <th>48.0</th>\n",
       "      <td>0.125100</td>\n",
       "    </tr>\n",
       "    <tr>\n",
       "      <th>54.0</th>\n",
       "      <td>0.117281</td>\n",
       "    </tr>\n",
       "    <tr>\n",
       "      <th>60.0</th>\n",
       "      <td>0.058640</td>\n",
       "    </tr>\n",
       "    <tr>\n",
       "      <th>72.0</th>\n",
       "      <td>0.058640</td>\n",
       "    </tr>\n",
       "  </tbody>\n",
       "</table>\n",
       "</div>"
      ],
      "text/plain": [
       "          KM_estimate\n",
       "timeline             \n",
       "0.0          1.000000\n",
       "4.0          0.994000\n",
       "5.0          0.993000\n",
       "6.0          0.927000\n",
       "7.0          0.921951\n",
       "8.0          0.915892\n",
       "9.0          0.880510\n",
       "10.0         0.854824\n",
       "11.0         0.845544\n",
       "12.0         0.711494\n",
       "13.0         0.707054\n",
       "14.0         0.703724\n",
       "15.0         0.645914\n",
       "16.0         0.644779\n",
       "18.0         0.564040\n",
       "20.0         0.555343\n",
       "21.0         0.529195\n",
       "22.0         0.526650\n",
       "24.0         0.363821\n",
       "26.0         0.362239\n",
       "27.0         0.349585\n",
       "28.0         0.346348\n",
       "30.0         0.302445\n",
       "33.0         0.298948\n",
       "36.0         0.218056\n",
       "39.0         0.208031\n",
       "40.0         0.208031\n",
       "42.0         0.187485\n",
       "45.0         0.184806\n",
       "47.0         0.181963\n",
       "48.0         0.125100\n",
       "54.0         0.117281\n",
       "60.0         0.058640\n",
       "72.0         0.058640"
      ]
     },
     "execution_count": 371,
     "metadata": {},
     "output_type": "execute_result"
    }
   ],
   "source": [
    "#funcion de supervivencia de kaplan M.\n",
    "kmbil.survival_function_\n"
   ]
  },
  {
   "cell_type": "code",
   "execution_count": 372,
   "metadata": {},
   "outputs": [
    {
     "data": {
      "image/png": "[encoded data removed]",
      "text/plain": [
       "<Figure size 640x480 with 1 Axes>"
      ]
     },
     "metadata": {},
     "output_type": "display_data"
    }
   ],
   "source": [
    "kmbil.plot_survival_function(label = 'funcion estimada', color= 'purple')\n",
    "plt.title('Funcion de supervivencia KM')\n",
    "plt.xlabel('tiempo en meses')\n",
    "plt.ylabel('probabilidad de supervivencia');"
   ]
  },
  {
   "cell_type": "markdown",
   "metadata": {},
   "source": [
    "1. Cuál es la mediana del tiempo y que significa"
   ]
  },
  {
   "cell_type": "code",
   "execution_count": 373,
   "metadata": {},
   "outputs": [
    {
     "name": "stdout",
     "output_type": "stream",
     "text": [
      "El valor de la mediana es de  24.0 con una probabilidad de 0.5279.\n",
      "Esto nos indica el tiempo en el cual la curva cambia de una probabilidad de supervivencia mayor de 0,5 a una menor de 0,5.\n",
      "Por los resultados obtenidos tenemos que el tiempo en el que la probabilidad de que un cliente pague va decreciendo es de 24.0\n"
     ]
    }
   ],
   "source": [
    "#mediana de tiempo de supervivencia\n",
    "med_kmbilt = kmbil.median_survival_time_\n",
    "med_kmbilp = np.median(kmbil.survival_function_)\n",
    "\n",
    "\n",
    "print(f'El valor de la mediana es de  {med_kmbilt.round(4)} con una probabilidad de {med_kmbilp.round(4)}.\\nEsto nos indica el tiempo en el cual la curva cambia de una probabilidad de supervivencia mayor de 0,5 a una menor de 0,5.\\nPor los resultados obtenidos tenemos que el tiempo en el que la probabilidad de que un cliente pague va decreciendo es de {med_kmbilt}');"
   ]
  },
  {
   "cell_type": "code",
   "execution_count": 374,
   "metadata": {},
   "outputs": [
    {
     "data": {
      "image/png": "[encoded data removed]",
      "text/plain": [
       "<Figure size 640x480 with 1 Axes>"
      ]
     },
     "metadata": {},
     "output_type": "display_data"
    }
   ],
   "source": [
    "#grafica\n",
    "kmbil.plot_survival_function(label = 'funcion estimada', color= 'purple')\n",
    "plt.title('Mediana de la funcion de supervivencia KM')\n",
    "plt.axhline(y = med_kmbilp, color = 'pink', linestyle = '-')\n",
    "plt.axvline(label = 'tiempo promedio en pagar el préstamo en su totalidad',x = pt, color = '#00BFBF', linestyle = '-')\n",
    "plt.plot(med_kmbilt,med_kmbilp,marker =\"o\")\n",
    "plt.xlabel('tiempo en meses')\n",
    "plt.ylabel('probabilidad de supervivencia')\n",
    "plt.xlim(18,30);"
   ]
  },
  {
   "cell_type": "markdown",
   "metadata": {},
   "source": [
    "2. Es mayor/menor que el tiempo promedio del inciso 1c"
   ]
  },
  {
   "cell_type": "code",
   "execution_count": 375,
   "metadata": {},
   "outputs": [
    {
     "name": "stdout",
     "output_type": "stream",
     "text": [
      "El tiempo promedio de la funcion de riesgo es de 24.0 el cual es mayor al tiempo promedio 19.21 como se puede observar en la grafica anterior\n",
      "Donde la linea azul representa el tiempo promedio 19.21 y la linea rosa la probabilidad 0.5279 la cual intersecta en un tiempo de 24.0\n"
     ]
    }
   ],
   "source": [
    "print(f'El tiempo promedio de la funcion de riesgo es de {med_kmbilt.round(4)} el cual es mayor al tiempo promedio {pt} como se puede observar en la grafica anterior\\nDonde la linea azul representa el tiempo promedio {pt} y la linea rosa la probabilidad {med_kmbilp.round(4)} la cual intersecta en un tiempo de {med_kmbilt.round(4)}')"
   ]
  },
  {
   "cell_type": "markdown",
   "metadata": {},
   "source": [
    "## Determinar el tipo de riesgo de que el préstamo se pague en su totalidad "
   ]
  },
  {
   "cell_type": "markdown",
   "metadata": {},
   "source": [
    "Determine si el riesgo de que el préstamo se pague en su totalidad es constante, creciente, decreciente, o tipo log-normal respecto al tiempo"
   ]
  },
  {
   "cell_type": "code",
   "execution_count": 376,
   "metadata": {},
   "outputs": [
    {
     "data": {
      "image/png": "[encoded data removed]",
      "text/plain": [
       "<Figure size 640x480 with 1 Axes>"
      ]
     },
     "metadata": {},
     "output_type": "display_data"
    }
   ],
   "source": [
    "#log-normal\n",
    "lognbil = LogNormalFitter().fit(bil['meses'],bil['credito_pagado'])\n",
    "lognbil.plot_hazard(label='Estimador de logNormal')\n",
    "plt.title('Funcion de riesgo log normal ')\n",
    "plt.xlabel('tiempo en meses')\n",
    "plt.ylabel('estimador log-normal');"
   ]
  },
  {
   "cell_type": "code",
   "execution_count": 377,
   "metadata": {},
   "outputs": [
    {
     "data": {
      "text/html": [
       "<div>\n",
       "<style scoped>\n",
       "    .dataframe tbody tr th:only-of-type {\n",
       "        vertical-align: middle;\n",
       "    }\n",
       "\n",
       "    .dataframe tbody tr th {\n",
       "        vertical-align: top;\n",
       "    }\n",
       "\n",
       "    .dataframe thead th {\n",
       "        text-align: right;\n",
       "    }\n",
       "</style>\n",
       "<table border=\"1\" class=\"dataframe\">\n",
       "  <thead>\n",
       "    <tr style=\"text-align: right;\">\n",
       "      <th></th>\n",
       "      <th>Exponential_estimate</th>\n",
       "    </tr>\n",
       "  </thead>\n",
       "  <tbody>\n",
       "    <tr>\n",
       "      <th>4.000000</th>\n",
       "      <td>0.033488</td>\n",
       "    </tr>\n",
       "    <tr>\n",
       "      <th>4.136273</th>\n",
       "      <td>0.033488</td>\n",
       "    </tr>\n",
       "    <tr>\n",
       "      <th>4.272545</th>\n",
       "      <td>0.033488</td>\n",
       "    </tr>\n",
       "    <tr>\n",
       "      <th>4.408818</th>\n",
       "      <td>0.033488</td>\n",
       "    </tr>\n",
       "    <tr>\n",
       "      <th>4.545090</th>\n",
       "      <td>0.033488</td>\n",
       "    </tr>\n",
       "    <tr>\n",
       "      <th>...</th>\n",
       "      <td>...</td>\n",
       "    </tr>\n",
       "    <tr>\n",
       "      <th>71.454910</th>\n",
       "      <td>0.033488</td>\n",
       "    </tr>\n",
       "    <tr>\n",
       "      <th>71.591182</th>\n",
       "      <td>0.033488</td>\n",
       "    </tr>\n",
       "    <tr>\n",
       "      <th>71.727455</th>\n",
       "      <td>0.033488</td>\n",
       "    </tr>\n",
       "    <tr>\n",
       "      <th>71.863727</th>\n",
       "      <td>0.033488</td>\n",
       "    </tr>\n",
       "    <tr>\n",
       "      <th>72.000000</th>\n",
       "      <td>0.033488</td>\n",
       "    </tr>\n",
       "  </tbody>\n",
       "</table>\n",
       "<p>500 rows × 1 columns</p>\n",
       "</div>"
      ],
      "text/plain": [
       "           Exponential_estimate\n",
       "4.000000               0.033488\n",
       "4.136273               0.033488\n",
       "4.272545               0.033488\n",
       "4.408818               0.033488\n",
       "4.545090               0.033488\n",
       "...                         ...\n",
       "71.454910              0.033488\n",
       "71.591182              0.033488\n",
       "71.727455              0.033488\n",
       "71.863727              0.033488\n",
       "72.000000              0.033488\n",
       "\n",
       "[500 rows x 1 columns]"
      ]
     },
     "execution_count": 377,
     "metadata": {},
     "output_type": "execute_result"
    }
   ],
   "source": [
    "#constante (exponencial)\n",
    "expbil = ExponentialFitter().fit(bil['meses'],bil['credito_pagado'])\n",
    "expbil.hazard_"
   ]
  },
  {
   "cell_type": "code",
   "execution_count": 378,
   "metadata": {},
   "outputs": [
    {
     "data": {
      "image/png": "[encoded data removed]",
      "text/plain": [
       "<Figure size 640x480 with 1 Axes>"
      ]
     },
     "metadata": {},
     "output_type": "display_data"
    }
   ],
   "source": [
    "\n",
    "expbil.plot_hazard(label='Estimador exponencial')\n",
    "plt.title('Funcion de riesgo exp con $\\lambda=0.033488$')\n",
    "plt.xlabel('tiempo en meses')\n",
    "plt.ylabel('estimador exponencial');"
   ]
  },
  {
   "cell_type": "code",
   "execution_count": 379,
   "metadata": {},
   "outputs": [
    {
     "data": {
      "image/png": "[encoded data removed]",
      "text/plain": [
       "<Figure size 640x480 with 1 Axes>"
      ]
     },
     "metadata": {},
     "output_type": "display_data"
    }
   ],
   "source": [
    "#creciente (weibull)\n",
    "weibullbil = WeibullFitter().fit(bil['meses'],bil['credito_pagado'])\n",
    "weibullbil.plot_hazard(label='estimador de weibull')\n",
    "plt.title('Funcion de riesgo Weibull')\n",
    "plt.xlabel('tiempo en meses')\n",
    "plt.ylabel('estimador Weibull');"
   ]
  },
  {
   "cell_type": "code",
   "execution_count": 380,
   "metadata": {},
   "outputs": [
    {
     "name": "stdout",
     "output_type": "stream",
     "text": [
      "Exp:  6157.19 , weibul  5900.98 , log-normal  5813.75\n"
     ]
    }
   ],
   "source": [
    "print('Exp: ',expbil.AIC_.round(2),', weibul ', weibullbil.AIC_.round(2),', log-normal ', lognbil.AIC_.round(2))"
   ]
  },
  {
   "cell_type": "code",
   "execution_count": 381,
   "metadata": {},
   "outputs": [
    {
     "name": "stdout",
     "output_type": "stream",
     "text": [
      "Al contar con un estimado AIC de 5813.75 (menor al de los otros estimadores) se obtiene que la funcion de riesgo se adapta mejor a un modelo lognormal\n",
      "La distribución log-normal se distingue por mostrar un aumento rápido al principio, seguido de una fase de estabilidad con el paso del tiempo.\n",
      "En el gráfico, se nota que al principio, la distribución log-normal experimenta un crecimiento significativo hasta aproximadamente el mes 20,\n",
      "y luego se mantiene constante antes de disminuir.\n"
     ]
    }
   ],
   "source": [
    "#respuesta\n",
    "print(f'Al contar con un estimado AIC de {lognbil.AIC_.round(2)} (menor al de los otros estimadores) se obtiene que la funcion de riesgo se adapta mejor a un modelo lognormal\\nLa distribución log-normal se distingue por mostrar un aumento rápido al principio, seguido de una fase de estabilidad con el paso del tiempo.\\nEn el gráfico, se nota que al principio, la distribución log-normal experimenta un crecimiento significativo hasta aproximadamente el mes 20,\\ny luego se mantiene constante antes de disminuir.')"
   ]
  },
  {
   "cell_type": "markdown",
   "metadata": {},
   "source": [
    "## Modelo Cox"
   ]
  },
  {
   "cell_type": "markdown",
   "metadata": {},
   "source": [
    "1.  A parte de “tasa de interes” y “cantidad”, elige otras cuatro variables que creas que afectan el riesgo del evento\n",
    "\n",
    "**Variables en total**\n",
    "1. Tasa de interes \n",
    "2. cantidad\n",
    "3. Edad \n",
    "4. Numero de creditos\n",
    "5. situacion laboral\n",
    "6. historia crediticia\t"
   ]
  },
  {
   "cell_type": "markdown",
   "metadata": {},
   "source": [
    "2. Di si cada una de las 6 variables que elegiste, aumentan/disminuyen el riesgo del evento y por qué\n",
    "\n",
    "\n",
    "*suposiciones*\n",
    " 1. Tasa de interes:\n",
    " Entre menor sea la tasa de interes aumenta el riesgo de que el cliente pague el prestamo. Esto debido a que si los intereses generados son menores la deuda no se hara tan grande y por tanto sera mas accesible de pagar \n",
    "\n",
    "\n",
    " 2. cantidad:\n",
    " Si la cantidad del prestamo es muy alta el riesgo de que el cliente pague en su totalidad disminuye. Esto debido a que si la cantidad prestada al usuario es muy grande, tardara mas tiempo en que se pueda pagar en su totalidad\n",
    "\n",
    "\n",
    " 3. Edad:\n",
    " La edad del usuario aumenta el riesgo de que el cliente pague en su totalidad. Debido a que si el usuario se encuentra en una edad en la que pueda laborar puede tener ingresos para cubrir la deuda adquirida\n",
    "\n",
    "\n",
    " 4. Numero de creditos:\n",
    " Un numero grande de creditos adquiridos disminuye el riesgo de que el cliente pague en su totalidad. Puesto que tener varias deudad produce que la persona no sea capaz de pagar todas\n",
    "\n",
    "\n",
    " 5. Situacion laboral:\n",
    "La situacion laboral de una persona disminuye el riesgo de que el cliente pague en su totalidad. Puesto que la situacion laoral va ligada diretamente a el salario que se va a obtener y en caso de no tener un salario alto, la probabilidad de que el usuario pague disminuye\n",
    "\n",
    "\n",
    " 6. historia crediticia:\n",
    " El historial crediticio puede llegar a disminuir el riesgo de que el cliente pague en su totalidad. Puesto que el presentar deudas impagadas implica que puede que no se tenga la solvencia para pagar una nueva deuda.\n"
   ]
  },
  {
   "cell_type": "markdown",
   "metadata": {},
   "source": [
    "3. Realiza las transformaciones adecuadas para utilizar las variables en un modelo de cox"
   ]
  },
  {
   "cell_type": "code",
   "execution_count": 382,
   "metadata": {},
   "outputs": [],
   "source": [
    "#modelado de la base de datos \n",
    "variables = ['meses','credito_pagado','tasa_de_interes','cantidad','edad','numero_creditos','situacion_laboral','historia_crediticia']\n",
    "bil_f= bil[variables]"
   ]
  },
  {
   "cell_type": "code",
   "execution_count": 390,
   "metadata": {},
   "outputs": [
    {
     "data": {
      "text/html": [
       "<div>\n",
       "<style scoped>\n",
       "    .dataframe tbody tr th:only-of-type {\n",
       "        vertical-align: middle;\n",
       "    }\n",
       "\n",
       "    .dataframe tbody tr th {\n",
       "        vertical-align: top;\n",
       "    }\n",
       "\n",
       "    .dataframe thead th {\n",
       "        text-align: right;\n",
       "    }\n",
       "</style>\n",
       "<table border=\"1\" class=\"dataframe\">\n",
       "  <thead>\n",
       "    <tr style=\"text-align: right;\">\n",
       "      <th></th>\n",
       "      <th>meses</th>\n",
       "      <th>credito_pagado</th>\n",
       "      <th>tasa_de_interes</th>\n",
       "      <th>cantidad</th>\n",
       "      <th>edad</th>\n",
       "      <th>numero_creditos</th>\n",
       "      <th>desempleado</th>\n",
       "      <th>gobierno</th>\n",
       "      <th>obrero</th>\n",
       "      <th>pago_algun_credito</th>\n",
       "      <th>pago_retrasado</th>\n",
       "      <th>pago_todos</th>\n",
       "      <th>sin_creditos</th>\n",
       "    </tr>\n",
       "  </thead>\n",
       "  <tbody>\n",
       "    <tr>\n",
       "      <th>0</th>\n",
       "      <td>6</td>\n",
       "      <td>1</td>\n",
       "      <td>4</td>\n",
       "      <td>1169</td>\n",
       "      <td>67</td>\n",
       "      <td>2</td>\n",
       "      <td>0</td>\n",
       "      <td>1</td>\n",
       "      <td>0</td>\n",
       "      <td>0</td>\n",
       "      <td>0</td>\n",
       "      <td>0</td>\n",
       "      <td>0</td>\n",
       "    </tr>\n",
       "    <tr>\n",
       "      <th>1</th>\n",
       "      <td>48</td>\n",
       "      <td>0</td>\n",
       "      <td>2</td>\n",
       "      <td>5951</td>\n",
       "      <td>22</td>\n",
       "      <td>1</td>\n",
       "      <td>0</td>\n",
       "      <td>1</td>\n",
       "      <td>0</td>\n",
       "      <td>1</td>\n",
       "      <td>0</td>\n",
       "      <td>0</td>\n",
       "      <td>0</td>\n",
       "    </tr>\n",
       "    <tr>\n",
       "      <th>2</th>\n",
       "      <td>12</td>\n",
       "      <td>1</td>\n",
       "      <td>2</td>\n",
       "      <td>2096</td>\n",
       "      <td>49</td>\n",
       "      <td>1</td>\n",
       "      <td>0</td>\n",
       "      <td>0</td>\n",
       "      <td>1</td>\n",
       "      <td>0</td>\n",
       "      <td>0</td>\n",
       "      <td>0</td>\n",
       "      <td>0</td>\n",
       "    </tr>\n",
       "  </tbody>\n",
       "</table>\n",
       "</div>"
      ],
      "text/plain": [
       "   meses  credito_pagado  tasa_de_interes  cantidad  edad  numero_creditos  \\\n",
       "0      6               1                4      1169    67                2   \n",
       "1     48               0                2      5951    22                1   \n",
       "2     12               1                2      2096    49                1   \n",
       "\n",
       "   desempleado  gobierno  obrero  pago_algun_credito  pago_retrasado  \\\n",
       "0            0         1       0                   0               0   \n",
       "1            0         1       0                   1               0   \n",
       "2            0         0       1                   0               0   \n",
       "\n",
       "   pago_todos  sin_creditos  \n",
       "0           0             0  \n",
       "1           0             0  \n",
       "2           0             0  "
      ]
     },
     "execution_count": 390,
     "metadata": {},
     "output_type": "execute_result"
    }
   ],
   "source": [
    "bil_f.head(3)"
   ]
  },
  {
   "cell_type": "code",
   "execution_count": 384,
   "metadata": {},
   "outputs": [
    {
     "data": {
      "text/plain": [
       "meses                  0\n",
       "credito_pagado         0\n",
       "tasa_de_interes        0\n",
       "cantidad               0\n",
       "edad                   0\n",
       "numero_creditos        0\n",
       "situacion_laboral      0\n",
       "historia_crediticia    0\n",
       "dtype: int64"
      ]
     },
     "execution_count": 384,
     "metadata": {},
     "output_type": "execute_result"
    }
   ],
   "source": [
    "#verificar la existencia de missin values \n",
    "bil_f.isnull().sum()"
   ]
  },
  {
   "cell_type": "code",
   "execution_count": 385,
   "metadata": {},
   "outputs": [
    {
     "data": {
      "text/plain": [
       "0"
      ]
     },
     "execution_count": 385,
     "metadata": {},
     "output_type": "execute_result"
    }
   ],
   "source": [
    "#verificacion de valores duplicados\n",
    "bil_f.duplicated().sum()"
   ]
  },
  {
   "cell_type": "code",
   "execution_count": 386,
   "metadata": {},
   "outputs": [
    {
     "data": {
      "text/plain": [
       "meses                   int64\n",
       "credito_pagado          int64\n",
       "tasa_de_interes         int64\n",
       "cantidad                int64\n",
       "edad                    int64\n",
       "numero_creditos         int64\n",
       "situacion_laboral      object\n",
       "historia_crediticia    object\n",
       "dtype: object"
      ]
     },
     "execution_count": 386,
     "metadata": {},
     "output_type": "execute_result"
    }
   ],
   "source": [
    "#verifcar que sean variable numericas\n",
    "bil_f.dtypes"
   ]
  },
  {
   "cell_type": "code",
   "execution_count": 387,
   "metadata": {},
   "outputs": [],
   "source": [
    "# dummie situacion laboral\n",
    "dum_sl = pd.get_dummies(bil_f['situacion_laboral'],drop_first=True,dtype=int) #se elimino administrativo\n",
    "\n",
    "bil_f = pd.concat([bil_f,dum_sl],axis = 1)\n",
    "bil_f = bil_f.drop('situacion_laboral',axis=1)\n",
    "\n",
    "#dummie historial crediticio\n",
    "dum_hc = pd.get_dummies(bil_f['historia_crediticia'],drop_first=True,dtype=int) #se elimino no ha pagado\n",
    "\n",
    "bil_f = pd.concat([bil_f,dum_hc],axis = 1)\n",
    "bil_f = bil_f.drop('historia_crediticia',axis=1)"
   ]
  },
  {
   "cell_type": "code",
   "execution_count": 388,
   "metadata": {},
   "outputs": [
    {
     "data": {
      "text/html": [
       "<div>\n",
       "<style scoped>\n",
       "    .dataframe tbody tr th:only-of-type {\n",
       "        vertical-align: middle;\n",
       "    }\n",
       "\n",
       "    .dataframe tbody tr th {\n",
       "        vertical-align: top;\n",
       "    }\n",
       "\n",
       "    .dataframe thead th {\n",
       "        text-align: right;\n",
       "    }\n",
       "</style>\n",
       "<table border=\"1\" class=\"dataframe\">\n",
       "  <thead>\n",
       "    <tr style=\"text-align: right;\">\n",
       "      <th></th>\n",
       "      <th>meses</th>\n",
       "      <th>credito_pagado</th>\n",
       "      <th>tasa_de_interes</th>\n",
       "      <th>cantidad</th>\n",
       "      <th>edad</th>\n",
       "      <th>numero_creditos</th>\n",
       "      <th>desempleado</th>\n",
       "      <th>gobierno</th>\n",
       "      <th>obrero</th>\n",
       "      <th>pago_algun_credito</th>\n",
       "      <th>pago_retrasado</th>\n",
       "      <th>pago_todos</th>\n",
       "      <th>sin_creditos</th>\n",
       "    </tr>\n",
       "  </thead>\n",
       "  <tbody>\n",
       "    <tr>\n",
       "      <th>0</th>\n",
       "      <td>6</td>\n",
       "      <td>1</td>\n",
       "      <td>4</td>\n",
       "      <td>1169</td>\n",
       "      <td>67</td>\n",
       "      <td>2</td>\n",
       "      <td>0</td>\n",
       "      <td>1</td>\n",
       "      <td>0</td>\n",
       "      <td>0</td>\n",
       "      <td>0</td>\n",
       "      <td>0</td>\n",
       "      <td>0</td>\n",
       "    </tr>\n",
       "    <tr>\n",
       "      <th>1</th>\n",
       "      <td>48</td>\n",
       "      <td>0</td>\n",
       "      <td>2</td>\n",
       "      <td>5951</td>\n",
       "      <td>22</td>\n",
       "      <td>1</td>\n",
       "      <td>0</td>\n",
       "      <td>1</td>\n",
       "      <td>0</td>\n",
       "      <td>1</td>\n",
       "      <td>0</td>\n",
       "      <td>0</td>\n",
       "      <td>0</td>\n",
       "    </tr>\n",
       "    <tr>\n",
       "      <th>2</th>\n",
       "      <td>12</td>\n",
       "      <td>1</td>\n",
       "      <td>2</td>\n",
       "      <td>2096</td>\n",
       "      <td>49</td>\n",
       "      <td>1</td>\n",
       "      <td>0</td>\n",
       "      <td>0</td>\n",
       "      <td>1</td>\n",
       "      <td>0</td>\n",
       "      <td>0</td>\n",
       "      <td>0</td>\n",
       "      <td>0</td>\n",
       "    </tr>\n",
       "    <tr>\n",
       "      <th>3</th>\n",
       "      <td>42</td>\n",
       "      <td>1</td>\n",
       "      <td>2</td>\n",
       "      <td>7882</td>\n",
       "      <td>45</td>\n",
       "      <td>1</td>\n",
       "      <td>0</td>\n",
       "      <td>1</td>\n",
       "      <td>0</td>\n",
       "      <td>1</td>\n",
       "      <td>0</td>\n",
       "      <td>0</td>\n",
       "      <td>0</td>\n",
       "    </tr>\n",
       "    <tr>\n",
       "      <th>4</th>\n",
       "      <td>24</td>\n",
       "      <td>0</td>\n",
       "      <td>3</td>\n",
       "      <td>4870</td>\n",
       "      <td>53</td>\n",
       "      <td>2</td>\n",
       "      <td>0</td>\n",
       "      <td>1</td>\n",
       "      <td>0</td>\n",
       "      <td>0</td>\n",
       "      <td>1</td>\n",
       "      <td>0</td>\n",
       "      <td>0</td>\n",
       "    </tr>\n",
       "  </tbody>\n",
       "</table>\n",
       "</div>"
      ],
      "text/plain": [
       "   meses  credito_pagado  tasa_de_interes  cantidad  edad  numero_creditos  \\\n",
       "0      6               1                4      1169    67                2   \n",
       "1     48               0                2      5951    22                1   \n",
       "2     12               1                2      2096    49                1   \n",
       "3     42               1                2      7882    45                1   \n",
       "4     24               0                3      4870    53                2   \n",
       "\n",
       "   desempleado  gobierno  obrero  pago_algun_credito  pago_retrasado  \\\n",
       "0            0         1       0                   0               0   \n",
       "1            0         1       0                   1               0   \n",
       "2            0         0       1                   0               0   \n",
       "3            0         1       0                   1               0   \n",
       "4            0         1       0                   0               1   \n",
       "\n",
       "   pago_todos  sin_creditos  \n",
       "0           0             0  \n",
       "1           0             0  \n",
       "2           0             0  \n",
       "3           0             0  \n",
       "4           0             0  "
      ]
     },
     "execution_count": 388,
     "metadata": {},
     "output_type": "execute_result"
    }
   ],
   "source": [
    "#base de datos final \n",
    "bil_f.head()"
   ]
  },
  {
   "cell_type": "markdown",
   "metadata": {},
   "source": [
    "4. Estima un modelo de cox con las variables elegidas e interpreta los coeficientes."
   ]
  },
  {
   "cell_type": "code",
   "execution_count": 389,
   "metadata": {},
   "outputs": [
    {
     "data": {
      "text/html": [
       "<div>\n",
       "<style scoped>\n",
       "    .dataframe tbody tr th:only-of-type {\n",
       "        vertical-align: middle;\n",
       "    }\n",
       "\n",
       "    .dataframe tbody tr th {\n",
       "        vertical-align: top;\n",
       "    }\n",
       "\n",
       "    .dataframe thead th {\n",
       "        text-align: right;\n",
       "    }\n",
       "</style>\n",
       "<table border=\"1\" class=\"dataframe\">\n",
       "  <tbody>\n",
       "    <tr>\n",
       "      <th>model</th>\n",
       "      <td>lifelines.CoxPHFitter</td>\n",
       "    </tr>\n",
       "    <tr>\n",
       "      <th>duration col</th>\n",
       "      <td>'meses'</td>\n",
       "    </tr>\n",
       "    <tr>\n",
       "      <th>event col</th>\n",
       "      <td>'credito_pagado'</td>\n",
       "    </tr>\n",
       "    <tr>\n",
       "      <th>baseline estimation</th>\n",
       "      <td>breslow</td>\n",
       "    </tr>\n",
       "    <tr>\n",
       "      <th>number of observations</th>\n",
       "      <td>1000</td>\n",
       "    </tr>\n",
       "    <tr>\n",
       "      <th>number of events observed</th>\n",
       "      <td>700</td>\n",
       "    </tr>\n",
       "    <tr>\n",
       "      <th>partial log-likelihood</th>\n",
       "      <td>-4028.69</td>\n",
       "    </tr>\n",
       "    <tr>\n",
       "      <th>time fit was run</th>\n",
       "      <td>2023-10-07 17:01:02 UTC</td>\n",
       "    </tr>\n",
       "  </tbody>\n",
       "</table>\n",
       "</div><table border=\"1\" class=\"dataframe\">\n",
       "  <thead>\n",
       "    <tr style=\"text-align: right;\">\n",
       "      <th style=\"min-width: 12px;\"></th>\n",
       "      <th style=\"min-width: 12px;\">coef</th>\n",
       "      <th style=\"min-width: 12px;\">exp(coef)</th>\n",
       "      <th style=\"min-width: 12px;\">se(coef)</th>\n",
       "      <th style=\"min-width: 12px;\">coef lower 95%</th>\n",
       "      <th style=\"min-width: 12px;\">coef upper 95%</th>\n",
       "      <th style=\"min-width: 12px;\">exp(coef) lower 95%</th>\n",
       "      <th style=\"min-width: 12px;\">exp(coef) upper 95%</th>\n",
       "      <th style=\"min-width: 12px;\">cmp to</th>\n",
       "      <th style=\"min-width: 12px;\">z</th>\n",
       "      <th style=\"min-width: 12px;\">p</th>\n",
       "      <th style=\"min-width: 12px;\">-log2(p)</th>\n",
       "    </tr>\n",
       "  </thead>\n",
       "  <tbody>\n",
       "    <tr>\n",
       "      <th>tasa_de_interes</th>\n",
       "      <td>-0.45</td>\n",
       "      <td>0.64</td>\n",
       "      <td>0.04</td>\n",
       "      <td>-0.52</td>\n",
       "      <td>-0.37</td>\n",
       "      <td>0.59</td>\n",
       "      <td>0.69</td>\n",
       "      <td>0.00</td>\n",
       "      <td>-11.90</td>\n",
       "      <td>&lt;0.005</td>\n",
       "      <td>106.03</td>\n",
       "    </tr>\n",
       "    <tr>\n",
       "      <th>cantidad</th>\n",
       "      <td>-0.00</td>\n",
       "      <td>1.00</td>\n",
       "      <td>0.00</td>\n",
       "      <td>-0.00</td>\n",
       "      <td>-0.00</td>\n",
       "      <td>1.00</td>\n",
       "      <td>1.00</td>\n",
       "      <td>0.00</td>\n",
       "      <td>-16.03</td>\n",
       "      <td>&lt;0.005</td>\n",
       "      <td>189.77</td>\n",
       "    </tr>\n",
       "    <tr>\n",
       "      <th>edad</th>\n",
       "      <td>0.01</td>\n",
       "      <td>1.01</td>\n",
       "      <td>0.00</td>\n",
       "      <td>0.01</td>\n",
       "      <td>0.02</td>\n",
       "      <td>1.01</td>\n",
       "      <td>1.02</td>\n",
       "      <td>0.00</td>\n",
       "      <td>3.71</td>\n",
       "      <td>&lt;0.005</td>\n",
       "      <td>12.26</td>\n",
       "    </tr>\n",
       "    <tr>\n",
       "      <th>numero_creditos</th>\n",
       "      <td>0.03</td>\n",
       "      <td>1.03</td>\n",
       "      <td>0.08</td>\n",
       "      <td>-0.13</td>\n",
       "      <td>0.19</td>\n",
       "      <td>0.87</td>\n",
       "      <td>1.21</td>\n",
       "      <td>0.00</td>\n",
       "      <td>0.35</td>\n",
       "      <td>0.72</td>\n",
       "      <td>0.47</td>\n",
       "    </tr>\n",
       "    <tr>\n",
       "      <th>desempleado</th>\n",
       "      <td>-0.63</td>\n",
       "      <td>0.53</td>\n",
       "      <td>0.29</td>\n",
       "      <td>-1.21</td>\n",
       "      <td>-0.06</td>\n",
       "      <td>0.30</td>\n",
       "      <td>0.94</td>\n",
       "      <td>0.00</td>\n",
       "      <td>-2.16</td>\n",
       "      <td>0.03</td>\n",
       "      <td>5.04</td>\n",
       "    </tr>\n",
       "    <tr>\n",
       "      <th>gobierno</th>\n",
       "      <td>-0.26</td>\n",
       "      <td>0.77</td>\n",
       "      <td>0.11</td>\n",
       "      <td>-0.48</td>\n",
       "      <td>-0.03</td>\n",
       "      <td>0.62</td>\n",
       "      <td>0.97</td>\n",
       "      <td>0.00</td>\n",
       "      <td>-2.22</td>\n",
       "      <td>0.03</td>\n",
       "      <td>5.23</td>\n",
       "    </tr>\n",
       "    <tr>\n",
       "      <th>obrero</th>\n",
       "      <td>-0.01</td>\n",
       "      <td>0.99</td>\n",
       "      <td>0.14</td>\n",
       "      <td>-0.28</td>\n",
       "      <td>0.25</td>\n",
       "      <td>0.76</td>\n",
       "      <td>1.29</td>\n",
       "      <td>0.00</td>\n",
       "      <td>-0.10</td>\n",
       "      <td>0.92</td>\n",
       "      <td>0.12</td>\n",
       "    </tr>\n",
       "    <tr>\n",
       "      <th>pago_algun_credito</th>\n",
       "      <td>-0.38</td>\n",
       "      <td>0.68</td>\n",
       "      <td>0.10</td>\n",
       "      <td>-0.58</td>\n",
       "      <td>-0.18</td>\n",
       "      <td>0.56</td>\n",
       "      <td>0.84</td>\n",
       "      <td>0.00</td>\n",
       "      <td>-3.66</td>\n",
       "      <td>&lt;0.005</td>\n",
       "      <td>11.98</td>\n",
       "    </tr>\n",
       "    <tr>\n",
       "      <th>pago_retrasado</th>\n",
       "      <td>-0.57</td>\n",
       "      <td>0.56</td>\n",
       "      <td>0.15</td>\n",
       "      <td>-0.86</td>\n",
       "      <td>-0.29</td>\n",
       "      <td>0.42</td>\n",
       "      <td>0.75</td>\n",
       "      <td>0.00</td>\n",
       "      <td>-3.92</td>\n",
       "      <td>&lt;0.005</td>\n",
       "      <td>13.44</td>\n",
       "    </tr>\n",
       "    <tr>\n",
       "      <th>pago_todos</th>\n",
       "      <td>-1.00</td>\n",
       "      <td>0.37</td>\n",
       "      <td>0.24</td>\n",
       "      <td>-1.46</td>\n",
       "      <td>-0.53</td>\n",
       "      <td>0.23</td>\n",
       "      <td>0.59</td>\n",
       "      <td>0.00</td>\n",
       "      <td>-4.21</td>\n",
       "      <td>&lt;0.005</td>\n",
       "      <td>15.24</td>\n",
       "    </tr>\n",
       "    <tr>\n",
       "      <th>sin_creditos</th>\n",
       "      <td>-1.06</td>\n",
       "      <td>0.35</td>\n",
       "      <td>0.27</td>\n",
       "      <td>-1.58</td>\n",
       "      <td>-0.53</td>\n",
       "      <td>0.21</td>\n",
       "      <td>0.59</td>\n",
       "      <td>0.00</td>\n",
       "      <td>-3.95</td>\n",
       "      <td>&lt;0.005</td>\n",
       "      <td>13.67</td>\n",
       "    </tr>\n",
       "  </tbody>\n",
       "</table><br><div>\n",
       "<style scoped>\n",
       "    .dataframe tbody tr th:only-of-type {\n",
       "        vertical-align: middle;\n",
       "    }\n",
       "\n",
       "    .dataframe tbody tr th {\n",
       "        vertical-align: top;\n",
       "    }\n",
       "\n",
       "    .dataframe thead th {\n",
       "        text-align: right;\n",
       "    }\n",
       "</style>\n",
       "<table border=\"1\" class=\"dataframe\">\n",
       "  <tbody>\n",
       "    <tr>\n",
       "      <th>Concordance</th>\n",
       "      <td>0.79</td>\n",
       "    </tr>\n",
       "    <tr>\n",
       "      <th>Partial AIC</th>\n",
       "      <td>8079.38</td>\n",
       "    </tr>\n",
       "    <tr>\n",
       "      <th>log-likelihood ratio test</th>\n",
       "      <td>481.39 on 11 df</td>\n",
       "    </tr>\n",
       "    <tr>\n",
       "      <th>-log2(p) of ll-ratio test</th>\n",
       "      <td>317.33</td>\n",
       "    </tr>\n",
       "  </tbody>\n",
       "</table>\n",
       "</div>"
      ],
      "text/latex": [
       "\\begin{tabular}{lrrrrrrrrrrr}\n",
       " & coef & exp(coef) & se(coef) & coef lower 95% & coef upper 95% & exp(coef) lower 95% & exp(coef) upper 95% & cmp to & z & p & -log2(p) \\\\\n",
       "covariate &  &  &  &  &  &  &  &  &  &  &  \\\\\n",
       "tasa_de_interes & -0.45 & 0.64 & 0.04 & -0.52 & -0.37 & 0.59 & 0.69 & 0.00 & -11.90 & 0.00 & 106.03 \\\\\n",
       "cantidad & -0.00 & 1.00 & 0.00 & -0.00 & -0.00 & 1.00 & 1.00 & 0.00 & -16.03 & 0.00 & 189.77 \\\\\n",
       "edad & 0.01 & 1.01 & 0.00 & 0.01 & 0.02 & 1.01 & 1.02 & 0.00 & 3.71 & 0.00 & 12.26 \\\\\n",
       "numero_creditos & 0.03 & 1.03 & 0.08 & -0.13 & 0.19 & 0.87 & 1.21 & 0.00 & 0.35 & 0.72 & 0.47 \\\\\n",
       "desempleado & -0.63 & 0.53 & 0.29 & -1.21 & -0.06 & 0.30 & 0.94 & 0.00 & -2.16 & 0.03 & 5.04 \\\\\n",
       "gobierno & -0.26 & 0.77 & 0.11 & -0.48 & -0.03 & 0.62 & 0.97 & 0.00 & -2.22 & 0.03 & 5.23 \\\\\n",
       "obrero & -0.01 & 0.99 & 0.14 & -0.28 & 0.25 & 0.76 & 1.29 & 0.00 & -0.10 & 0.92 & 0.12 \\\\\n",
       "pago_algun_credito & -0.38 & 0.68 & 0.10 & -0.58 & -0.18 & 0.56 & 0.84 & 0.00 & -3.66 & 0.00 & 11.98 \\\\\n",
       "pago_retrasado & -0.57 & 0.56 & 0.15 & -0.86 & -0.29 & 0.42 & 0.75 & 0.00 & -3.92 & 0.00 & 13.44 \\\\\n",
       "pago_todos & -1.00 & 0.37 & 0.24 & -1.46 & -0.53 & 0.23 & 0.59 & 0.00 & -4.21 & 0.00 & 15.24 \\\\\n",
       "sin_creditos & -1.06 & 0.35 & 0.27 & -1.58 & -0.53 & 0.21 & 0.59 & 0.00 & -3.95 & 0.00 & 13.67 \\\\\n",
       "\\end{tabular}\n"
      ],
      "text/plain": [
       "<lifelines.CoxPHFitter: fitted with 1000 total observations, 300 right-censored observations>\n",
       "             duration col = 'meses'\n",
       "                event col = 'credito_pagado'\n",
       "      baseline estimation = breslow\n",
       "   number of observations = 1000\n",
       "number of events observed = 700\n",
       "   partial log-likelihood = -4028.69\n",
       "         time fit was run = 2023-10-07 17:01:02 UTC\n",
       "\n",
       "---\n",
       "                     coef  exp(coef)   se(coef)   coef lower 95%   coef upper 95%  exp(coef) lower 95%  exp(coef) upper 95%\n",
       "covariate                                                                                                                  \n",
       "tasa_de_interes     -0.45       0.64       0.04            -0.52            -0.37                 0.59                 0.69\n",
       "cantidad            -0.00       1.00       0.00            -0.00            -0.00                 1.00                 1.00\n",
       "edad                 0.01       1.01       0.00             0.01             0.02                 1.01                 1.02\n",
       "numero_creditos      0.03       1.03       0.08            -0.13             0.19                 0.87                 1.21\n",
       "desempleado         -0.63       0.53       0.29            -1.21            -0.06                 0.30                 0.94\n",
       "gobierno            -0.26       0.77       0.11            -0.48            -0.03                 0.62                 0.97\n",
       "obrero              -0.01       0.99       0.14            -0.28             0.25                 0.76                 1.29\n",
       "pago_algun_credito  -0.38       0.68       0.10            -0.58            -0.18                 0.56                 0.84\n",
       "pago_retrasado      -0.57       0.56       0.15            -0.86            -0.29                 0.42                 0.75\n",
       "pago_todos          -1.00       0.37       0.24            -1.46            -0.53                 0.23                 0.59\n",
       "sin_creditos        -1.06       0.35       0.27            -1.58            -0.53                 0.21                 0.59\n",
       "\n",
       "                     cmp to      z      p   -log2(p)\n",
       "covariate                                           \n",
       "tasa_de_interes        0.00 -11.90 <0.005     106.03\n",
       "cantidad               0.00 -16.03 <0.005     189.77\n",
       "edad                   0.00   3.71 <0.005      12.26\n",
       "numero_creditos        0.00   0.35   0.72       0.47\n",
       "desempleado            0.00  -2.16   0.03       5.04\n",
       "gobierno               0.00  -2.22   0.03       5.23\n",
       "obrero                 0.00  -0.10   0.92       0.12\n",
       "pago_algun_credito     0.00  -3.66 <0.005      11.98\n",
       "pago_retrasado         0.00  -3.92 <0.005      13.44\n",
       "pago_todos             0.00  -4.21 <0.005      15.24\n",
       "sin_creditos           0.00  -3.95 <0.005      13.67\n",
       "---\n",
       "Concordance = 0.79\n",
       "Partial AIC = 8079.38\n",
       "log-likelihood ratio test = 481.39 on 11 df\n",
       "-log2(p) of ll-ratio test = 317.33"
      ]
     },
     "metadata": {},
     "output_type": "display_data"
    }
   ],
   "source": [
    "#estimando el modelo de COX \n",
    "cphbil = CoxPHFitter().fit(bil_f, 'meses', 'credito_pagado')\n",
    "cphbil.print_summary()"
   ]
  },
  {
   "cell_type": "code",
   "execution_count": 391,
   "metadata": {},
   "outputs": [
    {
     "data": {
      "text/plain": [
       "covariate\n",
       "tasa_de_interes      -0.448345\n",
       "cantidad             -0.000391\n",
       "edad                  0.012856\n",
       "numero_creditos       0.029649\n",
       "desempleado          -0.632440\n",
       "gobierno             -0.255050\n",
       "obrero               -0.014032\n",
       "pago_algun_credito   -0.378678\n",
       "pago_retrasado       -0.574573\n",
       "pago_todos           -0.996219\n",
       "sin_creditos         -1.059083\n",
       "Name: coef, dtype: float64"
      ]
     },
     "execution_count": 391,
     "metadata": {},
     "output_type": "execute_result"
    }
   ],
   "source": [
    "#coeficientes sin redondear\n",
    "cphbil.params_"
   ]
  },
  {
   "cell_type": "code",
   "execution_count": 392,
   "metadata": {},
   "outputs": [
    {
     "data": {
      "text/plain": [
       "covariate\n",
       "tasa_de_interes       0.638684\n",
       "cantidad              0.999609\n",
       "edad                  1.012939\n",
       "numero_creditos       1.030093\n",
       "desempleado           0.531294\n",
       "gobierno              0.774878\n",
       "obrero                0.986066\n",
       "pago_algun_credito    0.684766\n",
       "pago_retrasado        0.562945\n",
       "pago_todos            0.369273\n",
       "sin_creditos          0.346774\n",
       "Name: exp(coef), dtype: float64"
      ]
     },
     "execution_count": 392,
     "metadata": {},
     "output_type": "execute_result"
    }
   ],
   "source": [
    "#exp(coef) sin redondear\n",
    "cphbil.hazard_ratios_"
   ]
  },
  {
   "cell_type": "markdown",
   "metadata": {},
   "source": [
    "1. **Tasa de interes**: Al tener un p- valor: <0.005. Es menor a $\\alpha = 0.05$, por lo que rechazamos H0. \n",
    "\n",
    "Es decir el *porcentaje de la tasa de interes*, **si** tiene efecto sobre el riesgo de que una persona pague el prestamo en su totalidad. \n",
    "El porcentaje de la tasa de interes **disminuye** el riesgo de pago total en un **36%**\n",
    "\n",
    "\n",
    "2. **cantidad**: Al tener un p- valor: <0.005. Es menor a $\\alpha = 0.05$,, por lo que rechazamos H0. Es decir la *cantidad del prestamo* evaluado en euros, **si** tiene efecto sobre el riesgo de que una persona pague el prestamo en su totalidad. \n",
    "La cantidad del prestamo **disminuye** el riesgo de pago total en un **0.0391%**\n",
    "\n",
    "\n",
    "3. **Edad**:  Al tener un p- valor: <0.005. Es menor a $\\alpha = 0.05$,, por lo que rechazamos H0. Es decir la *edad* de la persona que adqiere el prestamo, **si** tiene efecto sobre el riesgo de que una persona pague el prestamo en su totalidad. \n",
    "La edad **aumenta** el riesgo de pago total en un **1%**\n",
    "\n",
    "\n",
    "4. **Numero de creditos**: Al tener un p- valor: 0.72. Es mayor a $\\alpha = 0.05$,, por lo que NO rechazamos H0. Es decir el *numero de creditos* que tiene un usuario, **NO** tiene efecto sobre el riesgo de que una persona pague el prestamo en su totalidad. \n",
    "\n",
    "\n",
    "5. **desempleado**:Al tener un p- valor: 0.03. Es menor a $\\alpha = 0.05$,, por lo que rechazamos H0. Es decir el ser *desempleado* , **si** tiene efecto sobre el riesgo de que una persona pague el prestamo en su totalidad en comparacion a que la persona fuera *administrativo*. \n",
    "Ser desempleado **disminuye** el riesgo de pago total en un **47%** en comparacion a que fuera del departamento administrativo\n",
    "\n",
    "\n",
    "6. **gobierno**:Al tener un p- valor: 0.03. Es menor a $\\alpha = 0.05$,, por lo que rechazamos H0. Es decir el ser empleado del *gobierno* , **si** tiene efecto sobre el riesgo de impago en comparacion a que la persona fuera *administrativo*. \n",
    "Ser empleado del gobierno  **disminuye** el riesgo de pago total en un **23%** en comparacion a que fuera del departamento administrativo\n",
    "\n",
    "\n",
    "7. **Obrero**: Al tener un p- valor: 0.92. Es mayor a $\\alpha = 0.05$,, por lo que NO rechazamos H0. Es decir ser *obrero*, **NO** tiene efecto sobre el riesgo de que una persona pague el prestamo en su totalidad, en comparacion a ser administrativo.  \n",
    "\n",
    "\n",
    "8. **pago algun credito**: Al tener un p- valor: <0.005>. Es menor a $\\alpha = 0.05$,, por lo que rechazamos H0. Es decir el haber *pagado algun credito* , **si** tiene efecto sobre el riesgo de que una persona pague el prestamo en su totalidad en comparacion a que la persona *no hubiera pagado*. \n",
    "Haber pagado algun credito  **disminuye** el riesgo de pago total en un **32%** en comparacion a que no se hubiera pagado\n",
    "\n",
    "\n",
    "9. **pago retrasado**: Al tener un p- valor: <0.005>. Es menor a $\\alpha = 0.05$,, por lo que rechazamos H0. Es decir el haber *pagado con retraso* , **si** tiene efecto sobre el riesgo de que una persona pague el prestamo en su totalidad en comparacion a que la persona *no hubiera pagado*. \n",
    "Haber pagado con retraso  **disminuye** el riesgo de pago total en un **44%** en comparacion a que no se hubiera pagado\n",
    "\n",
    "\n",
    "10. **pago todos**: Al tener un p- valor: <0.005>. Es menor a $\\alpha = 0.05$,, por lo que rechazamos H0. Es decir el haber *pagado todos los creditos* , **si** tiene efecto sobre el riesgo de que una persona pague el prestamo en su totalidad en comparacion a que la persona *no hubiera pagado*. \n",
    "Haber pagado los creditos  **disminuye** el riesgo de pago total en un **63%** en comparacion a que no se hubiera pagado\n",
    "\n",
    "\n",
    "11. **sin creditos**: Al tener un p- valor: <0.005>. Es menor a $\\alpha = 0.05$,, por lo que rechazamos H0. Es decir el *no tener creditos* , **si** tiene efecto sobre el riesgo de que una persona pague el prestamo en su totalidad en comparacion a que la persona *no hubiera pagado*. \n",
    "El no haber tenido creditos  **disminuye** el riesgo de pago total en un **65%** en comparacion a que no se hubiera pagado"
   ]
  },
  {
   "cell_type": "markdown",
   "metadata": {},
   "source": [
    "## Analisis, reflexiones y recomendaciones"
   ]
  },
  {
   "cell_type": "markdown",
   "metadata": {},
   "source": [
    "En el análisis previamente realizado, se logro examinar una base de datos con 1000 observaciones y 21 variables. Dicha base de datos nos habla sobre la información que tiene un banco acerca de los préstamos otorgados a sus clientes. De dicha base de datos, pudimos determinar que en promedio el Banco de la Ilusión otorga en promedio 3271.26 euros. Donde aproximadamente se toma un tiempo de 19.21 meses en pagar el préstamo en su totalidad. De la misma manera los clientes se pueden dividir entres las personas que ya han pagado su préstamo y las que aún no lo hacen, logrando obtener que el promedio del monto de los prestamos es menor en gente que ya pago la deuda en su totalidad que los que aun no lo hacen. Por otra parte, vemos lo mismo con la tasa de interés, donde se tiene una tasa de 2.92% en personas que ya liquidaron su deuda y una tasa de 3.1% en personas que aun no lo hacen, por lo que esto nos da un indicio de que estas variables pueden llegar a tener una influencia en el pago de un préstamo. \n",
    "\n",
    "Como resultado de la aplicación del modelo de Kaplan-Meier, nos introdujimos en la búsqueda de la mediana del tiempo de la función de supervivencia, lo cual nos arrojo un tiempo de 24 meses con una probabilidad de sobrevivir al riesgo de pagar la deuda en su totalidad de 0.5279. Lo que nos indica que pasado los 24 meses la probabilidad de pagar un préstamo en su totalidad va disminuyendo. \n",
    "\n",
    "Pasando a la examinación del riesgo de que el préstamo se pague en su totalidad se dio a conocer que sigue un modelo log-normal, en el cual podemos ver como el riesgo se presenta creciente hasta un tiempo aproximado de 20 meses, donde procede a volverse constante por un corto periodo de tiempo y después decrece. Lo cual se interpreta como que en los primeros 20 meses la probabilidad de que se pague un préstamo en su totalidad va en aumento, para después dar paso a decrecer.\n",
    "\n",
    "Teniendo en cuenta las variables de tasa de interés, cantidad, edad, número de créditos, situación laboral e historial crediticio. Se puede dar ciertas recomendaciones:\n",
    "1.\tHacer una evaluación de los porcentajes y los montos que están teniendo los clientes, puesto que por la prueba de Cox se pudo notar que hay una influencia en el riesgo de que una persona pague toda su deuda. Se recomienda prestar esencial atención en la tasa de interés, puesto que tiene una influencia de 36%\n",
    "2.\tPor otra parte, revisar la situación del cliente es esencial para ayudar a aumentar los pagos de los préstamos, puesto que algunas situaciones laborales pueden llegar a disminuir el riesgo de pago total, tal como trabajar en el gobierno, ya que disminuye el riesgo en un 23% respecto a que fuera parte del sector administrativo\n",
    "3.\tEl historial crediticio de los clientes también tiene que tratarse con precaución, puesto que los diferentes estados (pago retrasado, sin créditos etc.…) pueden disminuir el riesgo de pago total en porcentajes muy significativos, como lo es el estado de **sin créditos** el cual disminuye el riesgo de pago total en un 65% respecto a las personas que no han pagado \n"
   ]
  }
 ],
 "metadata": {
  "kernelspec": {
   "display_name": "Python 3",
   "language": "python",
   "name": "python3"
  },
  "language_info": {
   "codemirror_mode": {
    "name": "ipython",
    "version": 3
   },
   "file_extension": ".py",
   "mimetype": "text/x-python",
   "name": "python",
   "nbconvert_exporter": "python",
   "pygments_lexer": "ipython3",
   "version": "3.11.6"
  },
  "orig_nbformat": 4
 },
 "nbformat": 4,
 "nbformat_minor": 2
}
