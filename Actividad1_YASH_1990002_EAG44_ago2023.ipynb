{
  "cells": [
    {
      "cell_type": "markdown",
      "metadata": {
        "id": "view-in-github",
        "colab_type": "text"
      },
      "source": [
        "<a href=\"https://colab.research.google.com/github/AbbySnt/EstadisticaAplicada_1990002/blob/main/Actividad1_YASH_1990002_EAG44_ago2023.ipynb\" target=\"_parent\"><img src=\"https://colab.research.google.com/assets/colab-badge.svg\" alt=\"Open In Colab\"/></a>"
      ]
    },
    {
      "cell_type": "markdown",
      "id": "d5ecd489-845b-4b65-9fa4-215e0130b216",
      "metadata": {
        "id": "d5ecd489-845b-4b65-9fa4-215e0130b216"
      },
      "source": [
        "1. Crea una lista con los nombres de pila de los integrantes de tu familia, la lista se llamara mi_familia"
      ]
    },
    {
      "cell_type": "code",
      "execution_count": 9,
      "id": "fbb59900-828b-4e32-a25d-d2fd0c703fe9",
      "metadata": {
        "id": "fbb59900-828b-4e32-a25d-d2fd0c703fe9"
      },
      "outputs": [],
      "source": [
        "#respuesta\n",
        "mi_familia = ['yessica','ilde','arai','david','francisco']"
      ]
    },
    {
      "cell_type": "markdown",
      "id": "2d37233b-9475-4157-9240-63aa5f82cc33",
      "metadata": {
        "id": "2d37233b-9475-4157-9240-63aa5f82cc33"
      },
      "source": [
        "2. Crea una variable float que se llame mi_edad con tu edad \\\n",
        "Nota: las variables float contienen decimales"
      ]
    },
    {
      "cell_type": "code",
      "execution_count": null,
      "id": "b984f18b-109c-4938-8340-25acc322e18b",
      "metadata": {
        "id": "b984f18b-109c-4938-8340-25acc322e18b"
      },
      "outputs": [],
      "source": [
        "#respuesta\n",
        "mi_edad = 21.0"
      ]
    },
    {
      "cell_type": "code",
      "execution_count": 10,
      "id": "36332559-019c-4b32-ac1e-4d70e7f205f2",
      "metadata": {
        "colab": {
          "base_uri": "https://localhost:8080/"
        },
        "id": "36332559-019c-4b32-ac1e-4d70e7f205f2",
        "outputId": "3545278c-85d0-4d72-dc09-b06c96ece60b"
      },
      "outputs": [
        {
          "output_type": "execute_result",
          "data": {
            "text/plain": [
              "int"
            ]
          },
          "metadata": {},
          "execution_count": 10
        }
      ],
      "source": [
        "#al ejecutar el comando de abajo debe resultarte float\n",
        "type(mi_edad)"
      ]
    },
    {
      "cell_type": "markdown",
      "id": "31fe34c2-a22d-4cd3-8513-10636f9f321c",
      "metadata": {
        "id": "31fe34c2-a22d-4cd3-8513-10636f9f321c"
      },
      "source": [
        "3. Convierte la variable mi_edad a entero (int) y guardalo en mi_edad"
      ]
    },
    {
      "cell_type": "code",
      "execution_count": 11,
      "id": "3ff48778-6d4a-4328-8fbe-5c036a9b29b3",
      "metadata": {
        "id": "3ff48778-6d4a-4328-8fbe-5c036a9b29b3"
      },
      "outputs": [],
      "source": [
        "#respuesta\n",
        "mi_edad= 21"
      ]
    },
    {
      "cell_type": "code",
      "execution_count": 12,
      "id": "442ebc5b-cc8c-4c64-8c15-2e2623721e4e",
      "metadata": {
        "colab": {
          "base_uri": "https://localhost:8080/"
        },
        "id": "442ebc5b-cc8c-4c64-8c15-2e2623721e4e",
        "outputId": "b6fcb3f2-70ce-409f-8229-40d54beb94cb"
      },
      "outputs": [
        {
          "output_type": "execute_result",
          "data": {
            "text/plain": [
              "int"
            ]
          },
          "metadata": {},
          "execution_count": 12
        }
      ],
      "source": [
        "#al ejecutar el comando de abajo debe resultarte int\n",
        "type(mi_edad)"
      ]
    },
    {
      "cell_type": "markdown",
      "id": "9057e59d-28cc-4885-9d3f-b8925ccd000a",
      "metadata": {
        "id": "9057e59d-28cc-4885-9d3f-b8925ccd000a"
      },
      "source": [
        "4. Con el comando len(objeto) muestra cuántos integrantes tiene tu familia"
      ]
    },
    {
      "cell_type": "code",
      "execution_count": 17,
      "id": "3e62392c-2cee-4323-8e6a-fa271281f434",
      "metadata": {
        "colab": {
          "base_uri": "https://localhost:8080/"
        },
        "id": "3e62392c-2cee-4323-8e6a-fa271281f434",
        "outputId": "b0a86066-3557-41d6-e8ce-91fbfedb2bc2"
      },
      "outputs": [
        {
          "output_type": "stream",
          "name": "stdout",
          "text": [
            "mi familia tiene:5 integrantes\n"
          ]
        }
      ],
      "source": [
        "#respuesta\n",
        "variable = len(mi_familia)\n",
        "print(f'mi familia tiene:{variable} integrantes')"
      ]
    },
    {
      "cell_type": "markdown",
      "id": "b7c110fb-968d-48ed-ba68-7c235c94a35d",
      "metadata": {
        "id": "b7c110fb-968d-48ed-ba68-7c235c94a35d"
      },
      "source": [
        "5. Utiliza print para que se imprima en pantalla tu edad"
      ]
    },
    {
      "cell_type": "markdown",
      "id": "5f9a3930-9df6-4e79-8175-31f15d692588",
      "metadata": {
        "id": "5f9a3930-9df6-4e79-8175-31f15d692588"
      },
      "source": [
        "Ejemplo, yo (el profe) tengo 5 perros de mascotas y voy a imprimirlo en pantalla"
      ]
    },
    {
      "cell_type": "code",
      "execution_count": 5,
      "id": "59be38ed-2c19-4894-b2f4-2eb7cb121b37",
      "metadata": {
        "colab": {
          "base_uri": "https://localhost:8080/"
        },
        "id": "59be38ed-2c19-4894-b2f4-2eb7cb121b37",
        "outputId": "7d1a22c5-b3eb-4e55-e629-0a1c711362b1"
      },
      "outputs": [
        {
          "output_type": "stream",
          "name": "stdout",
          "text": [
            "yo tengo 22 años\n"
          ]
        }
      ],
      "source": [
        "num_mascotas = int(5)\n",
        "print('yo tengo', num_mascotas, 'mascotas')"
      ]
    },
    {
      "cell_type": "code",
      "execution_count": 6,
      "id": "0560aa51-9c82-40d9-a6de-e12a1e82478d",
      "metadata": {
        "colab": {
          "base_uri": "https://localhost:8080/"
        },
        "id": "0560aa51-9c82-40d9-a6de-e12a1e82478d",
        "outputId": "fc69148e-faf5-4542-fca6-3ffb8e9e65ae"
      },
      "outputs": [
        {
          "output_type": "stream",
          "name": "stdout",
          "text": [
            "yo tengo 21 años\n"
          ]
        }
      ],
      "source": [
        "## tu respuesta para mostrar tu edad\n",
        "## utiliza la variable mi_edad creada anteriormente\n",
        "mi_edad = int(21)\n",
        "print('yo tengo', mi_edad, 'años')\n"
      ]
    },
    {
      "cell_type": "markdown",
      "id": "dcc51ac7-8eba-4b87-a57b-1ffa1c5d1f5d",
      "metadata": {
        "id": "dcc51ac7-8eba-4b87-a57b-1ffa1c5d1f5d"
      },
      "source": [
        "6. Utiliza print para mostrar cuantos integrantes tiene tu familia \\\n",
        "Ahora usa print(f'texto {objeto}'). Mira el ejemplo"
      ]
    },
    {
      "cell_type": "code",
      "execution_count": null,
      "id": "31bc7411-ff72-4913-8730-cd690858a9b4",
      "metadata": {
        "id": "31bc7411-ff72-4913-8730-cd690858a9b4",
        "outputId": "f388bf1e-c223-445e-d69b-57997cc29252"
      },
      "outputs": [
        {
          "name": "stdout",
          "output_type": "stream",
          "text": [
            "El profe tiene 5 perros en su casa\n"
          ]
        }
      ],
      "source": [
        "print(f'El profe tiene {num_mascotas} perros en su casa')"
      ]
    },
    {
      "cell_type": "code",
      "execution_count": 8,
      "id": "b6a30927-3101-47c0-bbbc-b9c4a4b27b17",
      "metadata": {
        "colab": {
          "base_uri": "https://localhost:8080/"
        },
        "id": "b6a30927-3101-47c0-bbbc-b9c4a4b27b17",
        "outputId": "7165c6be-505d-4353-dbac-609ea2b03174"
      },
      "outputs": [
        {
          "output_type": "stream",
          "name": "stdout",
          "text": [
            "mi familia tiene 5 integrantes\n"
          ]
        }
      ],
      "source": [
        "## tu respuesta\n",
        "## utiliza len()\n",
        "num_integrantes=5\n",
        "print(f'mi familia tiene {num_integrantes} integrantes')\n"
      ]
    },
    {
      "cell_type": "markdown",
      "id": "38ef105e-a81e-466f-8d5d-8de96d553850",
      "metadata": {
        "id": "38ef105e-a81e-466f-8d5d-8de96d553850"
      },
      "source": [
        "7. Completa el siguiente codigo para que si tienes 20 o más años de edad se imprima \"tengo mas de 20 años\" y sino, se imprima \"tengo menos de 20 años\""
      ]
    },
    {
      "cell_type": "code",
      "execution_count": 16,
      "id": "02687bc5-a8f2-46cb-84ae-cbf581f0be9c",
      "metadata": {
        "colab": {
          "base_uri": "https://localhost:8080/"
        },
        "id": "02687bc5-a8f2-46cb-84ae-cbf581f0be9c",
        "outputId": "a696f66a-7198-46e9-915e-fdf88a08cae6"
      },
      "outputs": [
        {
          "output_type": "stream",
          "name": "stdout",
          "text": [
            "tengo mas de 20 años\n"
          ]
        }
      ],
      "source": [
        "if mi_edad > 20:\n",
        "##aqui va un print\n",
        "    print('tengo mas de 20 años')\n",
        "else:\n",
        "##aqui va otro print\n",
        "    print('tengo menos de 20 años')"
      ]
    },
    {
      "cell_type": "code",
      "execution_count": null,
      "id": "c9bf7c6f-ed59-4e11-8d63-49b5ada9e3eb",
      "metadata": {
        "id": "c9bf7c6f-ed59-4e11-8d63-49b5ada9e3eb"
      },
      "outputs": [],
      "source": []
    }
  ],
  "metadata": {
    "kernelspec": {
      "display_name": "Python 3",
      "language": "python",
      "name": "python3"
    },
    "language_info": {
      "codemirror_mode": {
        "name": "ipython",
        "version": 3
      },
      "file_extension": ".py",
      "mimetype": "text/x-python",
      "name": "python",
      "nbconvert_exporter": "python",
      "pygments_lexer": "ipython3",
      "version": "3.11.2"
    },
    "vscode": {
      "interpreter": {
        "hash": "c261aea317cc0286b3b3261fbba9abdec21eaa57589985bb7a274bf54d6cc0a7"
      }
    },
    "colab": {
      "provenance": [],
      "include_colab_link": true
    }
  },
  "nbformat": 4,
  "nbformat_minor": 5
}