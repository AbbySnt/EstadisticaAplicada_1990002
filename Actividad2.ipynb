{
  "cells": [
    {
      "cell_type": "markdown",
      "metadata": {
        "id": "view-in-github",
        "colab_type": "text"
      },
      "source": [
        "<a href=\"https://colab.research.google.com/github/AbbySnt/EstadisticaAplicada_1990002/blob/main/Actividad2.ipynb\" target=\"_parent\"><img src=\"https://colab.research.google.com/assets/colab-badge.svg\" alt=\"Open In Colab\"/></a>"
      ]
    },
    {
      "cell_type": "markdown",
      "id": "093543d7-16f9-415a-86c1-d1617213edfe",
      "metadata": {
        "id": "093543d7-16f9-415a-86c1-d1617213edfe"
      },
      "source": [
        "# Actividad 2\n",
        "Nombre: Yessica Abigail Santiago Hernandez\n",
        "\n",
        "Matrícula: 1990002\n",
        "\n",
        "Grupo: 44"
      ]
    },
    {
      "cell_type": "markdown",
      "id": "aa29e0d3-4818-44b9-b57f-3cfd97b9a2ae",
      "metadata": {
        "id": "aa29e0d3-4818-44b9-b57f-3cfd97b9a2ae"
      },
      "source": [
        "1. Contamos con la edad de las personas de San Andres, un pueblito de la sierra de Nuevo León, que cuenta con 50 habitantes en total. Genera una lista con la edad de los 50 habitantes de San Andres. la lista debe llamarse \"edades_pueblito\""
      ]
    },
    {
      "cell_type": "code",
      "execution_count": 19,
      "id": "878cc4c3-3709-4c73-8e36-5e0a04838dcc",
      "metadata": {
        "colab": {
          "base_uri": "https://localhost:8080/"
        },
        "id": "878cc4c3-3709-4c73-8e36-5e0a04838dcc",
        "outputId": "515e4bb0-c776-4c3f-c7e7-9c12c919fd1b"
      },
      "outputs": [
        {
          "output_type": "stream",
          "name": "stdout",
          "text": [
            "50\n"
          ]
        },
        {
          "output_type": "execute_result",
          "data": {
            "text/plain": [
              "list"
            ]
          },
          "metadata": {},
          "execution_count": 19
        }
      ],
      "source": [
        "# 23, 80, 99, 66, 87, 31, 61, 21, 54, 76, 78, 17, 14, 26, 100, 34, 1, 70, 5,\n",
        "#31, 51, 39, 47, 81, 69, 45, 40, 8, 44, 60, 77, 93, 22, 91, 4, 37, 87, 34, 98,\n",
        "#29, 7, 63, 11, 91, 86, 20, 33, 90, 72, 61\n",
        "\n",
        "#Respuesta\n",
        "edades_pueblito = [23, 80, 99, 66, 87, 31, 61, 21, 54, 76, 78, 17, 14, 26, 100, 34, 1, 70, 5,31, 51, 39, 47, 81, 69, 45, 40, 8, 44, 60, 77, 93, 22, 91, 4, 37, 87, 34, 98,29, 7, 63, 11, 91, 86, 20, 33, 90, 72, 61]\n",
        "print(len(edades_pueblito))\n",
        "type(edades_pueblito)\n"
      ]
    },
    {
      "cell_type": "markdown",
      "id": "b4d47a26-4561-48fc-a7e8-df275c26e758",
      "metadata": {
        "id": "b4d47a26-4561-48fc-a7e8-df275c26e758"
      },
      "source": [
        "2. Importa la librería de numpy con su apodo, y luego convierte  la lista edades_pueblito en un arreglo"
      ]
    },
    {
      "cell_type": "code",
      "execution_count": 20,
      "id": "02009718-9950-4324-aca5-a448727ed50b",
      "metadata": {
        "colab": {
          "base_uri": "https://localhost:8080/"
        },
        "id": "02009718-9950-4324-aca5-a448727ed50b",
        "outputId": "0a032286-561f-40d9-ccaa-00b4dcd65ec1"
      },
      "outputs": [
        {
          "output_type": "execute_result",
          "data": {
            "text/plain": [
              "numpy.ndarray"
            ]
          },
          "metadata": {},
          "execution_count": 20
        }
      ],
      "source": [
        "#respuesta\n",
        "import numpy as np\n",
        "\n",
        "edades_pueblito = np.array(edades_pueblito)\n",
        "type(edades_pueblito)"
      ]
    },
    {
      "cell_type": "markdown",
      "id": "7ed73508-1db7-4567-ae2f-81bbab9345f3",
      "metadata": {
        "id": "7ed73508-1db7-4567-ae2f-81bbab9345f3"
      },
      "source": [
        "3. Calcula la media, la varianza, y la desviación estándar de la edad de los habitantes de San Andres, muestra un texto (print) con los cálculos realizados"
      ]
    },
    {
      "cell_type": "code",
      "execution_count": 4,
      "id": "ce1b283c-3f4a-4dbb-9633-099bbf4668c6",
      "metadata": {
        "colab": {
          "base_uri": "https://localhost:8080/"
        },
        "id": "ce1b283c-3f4a-4dbb-9633-099bbf4668c6",
        "outputId": "be278ba4-4d6d-4598-bacb-6e85a42acc5a"
      },
      "outputs": [
        {
          "output_type": "stream",
          "name": "stdout",
          "text": [
            "la media es de:51.28. La varianza es: 887.2416000000001. La desviacion estandar 29.78660101455015\n"
          ]
        }
      ],
      "source": [
        "#respuesta\n",
        "\n",
        "#media\n",
        "media = np.mean(edades_pueblito)\n",
        "#varianza\n",
        "varianza = np.var(edades_pueblito)\n",
        "#Desviacion estandar\n",
        "desviacion = np.std(edades_pueblito)\n",
        "print(f'la media es de:{media}. La varianza es: {varianza}. La desviacion estandar {desviacion}')"
      ]
    },
    {
      "cell_type": "markdown",
      "id": "ca0149e9-ab8e-4708-b17b-27c791392d1a",
      "metadata": {
        "id": "ca0149e9-ab8e-4708-b17b-27c791392d1a"
      },
      "source": [
        "4. Sin utilizar la formula de la media de numpy, es decir, sin utilizar np.mean(), como podriamos  calcular la media utlizando solo las funciones que hemos visto en clase."
      ]
    },
    {
      "cell_type": "code",
      "execution_count": 5,
      "id": "4413f41b-5a50-440c-ac59-743d8f366842",
      "metadata": {
        "colab": {
          "base_uri": "https://localhost:8080/"
        },
        "id": "4413f41b-5a50-440c-ac59-743d8f366842",
        "outputId": "bf2d1490-e966-406c-af02-ba6bbc10c3a0"
      },
      "outputs": [
        {
          "output_type": "stream",
          "name": "stdout",
          "text": [
            "51.28\n"
          ]
        }
      ],
      "source": [
        "#respuesta\n",
        "total_hab = len(edades_pueblito)\n",
        "media_sin_np = np.sum(edades_pueblito)/total_hab\n",
        "\n",
        "print(media_sin_np)"
      ]
    },
    {
      "cell_type": "markdown",
      "id": "60047a79-fe4d-4967-8e71-304edce9b249",
      "metadata": {
        "id": "60047a79-fe4d-4967-8e71-304edce9b249"
      },
      "source": [
        "5. Selecciona una muestra de las edades de las primeras 20 personas del pueblo de San Andres, guardalo en un objeto llamado muestra_pueblito"
      ]
    },
    {
      "cell_type": "code",
      "execution_count": 9,
      "id": "f8dca0bc-4880-4463-a729-67503de9b140",
      "metadata": {
        "colab": {
          "base_uri": "https://localhost:8080/"
        },
        "id": "f8dca0bc-4880-4463-a729-67503de9b140",
        "outputId": "b7b9d011-4eaf-4e73-e68b-c07d795ce6ed"
      },
      "outputs": [
        {
          "output_type": "stream",
          "name": "stdout",
          "text": [
            "20\n",
            "[ 23  80  99  66  87  31  61  21  54  76  78  17  14  26 100  34   1  70\n",
            "   5  31]\n"
          ]
        }
      ],
      "source": [
        "#respuesta\n",
        "muestra_pueblito = edades_pueblito[0:20]\n",
        "print(len(muestra_pueblito))\n",
        "print(muestra_pueblito)"
      ]
    },
    {
      "cell_type": "markdown",
      "id": "6c2f598f-d727-4437-b060-5d7052544652",
      "metadata": {
        "id": "6c2f598f-d727-4437-b060-5d7052544652"
      },
      "source": [
        "6. Calcula la media, la varianza y la desviación estándar de la muestra de las edades del pueblo de San Andres, muestra un texto (print) con los calculos realizados"
      ]
    },
    {
      "cell_type": "code",
      "execution_count": 10,
      "id": "eceb2269-e3cb-43d4-9206-f2b21f5cd48b",
      "metadata": {
        "colab": {
          "base_uri": "https://localhost:8080/"
        },
        "id": "eceb2269-e3cb-43d4-9206-f2b21f5cd48b",
        "outputId": "bc92ad12-c30a-401a-c2ae-6c99f4df4b61"
      },
      "outputs": [
        {
          "output_type": "stream",
          "name": "stdout",
          "text": [
            "La media de la muestra es: 48.7. La varianza de la muestra es:966.2099999999998. La desviacion estandar de la muestra es:31.08391867187919\n"
          ]
        }
      ],
      "source": [
        "#respuesta\n",
        "\n",
        "muestra_pueblito = np.array(muestra_pueblito)\n",
        "#media\n",
        "media_mp = np.mean(muestra_pueblito)\n",
        "#varianza\n",
        "varianza_mp = np.var(muestra_pueblito)\n",
        "#desviacion estandar\n",
        "desviacion_mp = np.std(muestra_pueblito)\n",
        "\n",
        "print(f'La media de la muestra es: {media_mp}. La varianza de la muestra es:{varianza_mp}. La desviacion estandar de la muestra es:{desviacion_mp}')"
      ]
    },
    {
      "cell_type": "markdown",
      "id": "e702d284-b04b-4f89-8e01-bb56635c703c",
      "metadata": {
        "id": "e702d284-b04b-4f89-8e01-bb56635c703c"
      },
      "source": [
        "7. Sabemos que en San Andres se dedican a la producción de huevo de gallina. Existen 20 productores de huevo en San Andres, donde en promedio cada uno produce 5.6785 kg de huevo por día. ¿cuál es la producción de huevo en kg por mes en San Andres?\n",
        "\n",
        "Resuelve utilizando np.prod()"
      ]
    },
    {
      "cell_type": "code",
      "execution_count": 17,
      "id": "d7cc2869-27f8-4687-933c-d4975b445f44",
      "metadata": {
        "colab": {
          "base_uri": "https://localhost:8080/"
        },
        "id": "d7cc2869-27f8-4687-933c-d4975b445f44",
        "outputId": "bdd0a1a4-0165-4dcd-e91f-f397d70a546a"
      },
      "outputs": [
        {
          "output_type": "execute_result",
          "data": {
            "text/plain": [
              "3520.6699999999996"
            ]
          },
          "metadata": {},
          "execution_count": 17
        }
      ],
      "source": [
        "#respuesta\n",
        "datos = (20,5.6785,31)\n",
        "datos = np.array(datos)\n",
        "np.prod(datos)"
      ]
    },
    {
      "cell_type": "markdown",
      "id": "3cdf63ac-abd1-4c6f-a379-b0b22b2a3d34",
      "metadata": {
        "id": "3cdf63ac-abd1-4c6f-a379-b0b22b2a3d34"
      },
      "source": [
        "8. Resuelve el ejercicio 7 sin usar np.prod(). Resuelva  utilizando tres objetos: \"productores\" que contenga el número de productores, \"huevos_promedio_x_dia\" que contenga la producción promedio de kg de huevo al día por productor y \"días del mes\" que contega el número de días  en un mes"
      ]
    },
    {
      "cell_type": "code",
      "execution_count": 18,
      "id": "7e879332-66e1-44e2-9163-3a37b06ac78b",
      "metadata": {
        "colab": {
          "base_uri": "https://localhost:8080/"
        },
        "id": "7e879332-66e1-44e2-9163-3a37b06ac78b",
        "outputId": "a682982a-9e0c-43f0-f224-ed86887bce2a"
      },
      "outputs": [
        {
          "output_type": "stream",
          "name": "stdout",
          "text": [
            "3520.6699999999996\n"
          ]
        }
      ],
      "source": [
        "#respuesta\n",
        "productores = 20\n",
        "huevos_promedio_x_dia = 5.6785\n",
        "dias_del_mes = 31\n",
        "\n",
        "respuesta = productores*huevos_promedio_x_dia*dias_del_mes\n",
        "\n",
        "print(respuesta)"
      ]
    }
  ],
  "metadata": {
    "kernelspec": {
      "display_name": "Python 3 (ipykernel)",
      "language": "python",
      "name": "python3"
    },
    "language_info": {
      "codemirror_mode": {
        "name": "ipython",
        "version": 3
      },
      "file_extension": ".py",
      "mimetype": "text/x-python",
      "name": "python",
      "nbconvert_exporter": "python",
      "pygments_lexer": "ipython3",
      "version": "3.8.12"
    },
    "colab": {
      "provenance": [],
      "include_colab_link": true
    }
  },
  "nbformat": 4,
  "nbformat_minor": 5
}