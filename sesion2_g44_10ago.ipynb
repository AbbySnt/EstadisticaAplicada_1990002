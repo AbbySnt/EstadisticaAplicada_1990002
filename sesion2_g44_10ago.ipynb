{
  "nbformat": 4,
  "nbformat_minor": 0,
  "metadata": {
    "colab": {
      "provenance": [],
      "authorship_tag": "ABX9TyMCBXgWJqTj1nvUy9Ut8TwG",
      "include_colab_link": true
    },
    "kernelspec": {
      "name": "python3",
      "display_name": "Python 3"
    },
    "language_info": {
      "name": "python"
    }
  },
  "cells": [
    {
      "cell_type": "markdown",
      "metadata": {
        "id": "view-in-github",
        "colab_type": "text"
      },
      "source": [
        "<a href=\"https://colab.research.google.com/github/AbbySnt/EstadisticaAplicada_1990002/blob/main/sesion2_g44_10ago.ipynb\" target=\"_parent\"><img src=\"https://colab.research.google.com/assets/colab-badge.svg\" alt=\"Open In Colab\"/></a>"
      ]
    },
    {
      "cell_type": "markdown",
      "source": [
        "# Estadistica Aplicada\n",
        "\n",
        "Sesion 2 - 10 agosto\n",
        "\n",
        "Yessica Abigail Santiago Hernandez 199002"
      ],
      "metadata": {
        "id": "2L3AT8hAcGKV"
      }
    },
    {
      "cell_type": "markdown",
      "source": [
        "Una lista en ptthon es una coleccion de objetos que pueden ser de distinto tipo"
      ],
      "metadata": {
        "id": "LYuVBc2wcQjk"
      }
    },
    {
      "cell_type": "code",
      "source": [
        "#sintaxis para la creacion de una lista\n",
        "alumno = ['Yessica','santiago','22']"
      ],
      "metadata": {
        "id": "CmiPVoW5c2e2"
      },
      "execution_count": 2,
      "outputs": []
    },
    {
      "cell_type": "code",
      "source": [
        "type(alumno)"
      ],
      "metadata": {
        "colab": {
          "base_uri": "https://localhost:8080/"
        },
        "id": "I9fONYz5cxxe",
        "outputId": "5b6c1f33-7b83-4084-b5f6-f8f3416355b4"
      },
      "execution_count": 3,
      "outputs": [
        {
          "output_type": "execute_result",
          "data": {
            "text/plain": [
              "list"
            ]
          },
          "metadata": {},
          "execution_count": 3
        }
      ]
    },
    {
      "cell_type": "code",
      "source": [
        "estadistica_g44 = ['andrea','ana','carlos','hugo']"
      ],
      "metadata": {
        "id": "e1xysic4c8IF"
      },
      "execution_count": 5,
      "outputs": []
    },
    {
      "cell_type": "code",
      "source": [
        "estadistica_g44"
      ],
      "metadata": {
        "colab": {
          "base_uri": "https://localhost:8080/"
        },
        "id": "X339V-sTdJhG",
        "outputId": "5abcb57f-0e07-4743-9531-9f8c08cb85d1"
      },
      "execution_count": 6,
      "outputs": [
        {
          "output_type": "execute_result",
          "data": {
            "text/plain": [
              "['andrea', 'ana', 'carlos', 'hugo']"
            ]
          },
          "metadata": {},
          "execution_count": 6
        }
      ]
    },
    {
      "cell_type": "code",
      "source": [
        "#seleccion de un elemento de una lista (ana)\n",
        "#python comienza a contar desde 0 andrea-0 ana-1, carlos-2, hugo-3\n",
        "\n",
        "estadistica_g44[1]"
      ],
      "metadata": {
        "colab": {
          "base_uri": "https://localhost:8080/",
          "height": 35
        },
        "id": "0pyMSRu4dQbo",
        "outputId": "6d1634c4-b259-436f-bcc6-5d44f3a4168c"
      },
      "execution_count": 7,
      "outputs": [
        {
          "output_type": "execute_result",
          "data": {
            "text/plain": [
              "'ana'"
            ],
            "application/vnd.google.colaboratory.intrinsic+json": {
              "type": "string"
            }
          },
          "metadata": {},
          "execution_count": 7
        }
      ]
    },
    {
      "cell_type": "code",
      "source": [
        "estadistica_g44[2]"
      ],
      "metadata": {
        "colab": {
          "base_uri": "https://localhost:8080/",
          "height": 35
        },
        "id": "n43zlWPHdr1V",
        "outputId": "279905a4-19c0-437e-9a38-b356b91e7b50"
      },
      "execution_count": 8,
      "outputs": [
        {
          "output_type": "execute_result",
          "data": {
            "text/plain": [
              "'carlos'"
            ],
            "application/vnd.google.colaboratory.intrinsic+json": {
              "type": "string"
            }
          },
          "metadata": {},
          "execution_count": 8
        }
      ]
    },
    {
      "cell_type": "code",
      "source": [
        "\n",
        "#seleccion de varios elementos\n",
        "estadistica_g44[0:2] # se va a la posicion 2 pero no la incluye (no incluye a carlos)"
      ],
      "metadata": {
        "colab": {
          "base_uri": "https://localhost:8080/"
        },
        "id": "V29qguc0dwTY",
        "outputId": "5ae332e5-4f01-4beb-b670-431d049ff874"
      },
      "execution_count": 9,
      "outputs": [
        {
          "output_type": "execute_result",
          "data": {
            "text/plain": [
              "['andrea', 'ana']"
            ]
          },
          "metadata": {},
          "execution_count": 9
        }
      ]
    },
    {
      "cell_type": "code",
      "source": [
        "#añadir elementos a la lista ya creada\n",
        "estadistica_g44.append('raul')"
      ],
      "metadata": {
        "id": "DLW695VPd9l3"
      },
      "execution_count": 10,
      "outputs": []
    },
    {
      "cell_type": "code",
      "source": [
        "estadistica_g44"
      ],
      "metadata": {
        "colab": {
          "base_uri": "https://localhost:8080/"
        },
        "id": "Xj1iQ1TueGrN",
        "outputId": "bae5130c-4b97-4f09-fb2b-2e785e50af0f"
      },
      "execution_count": 11,
      "outputs": [
        {
          "output_type": "execute_result",
          "data": {
            "text/plain": [
              "['andrea', 'ana', 'carlos', 'hugo', 'raul']"
            ]
          },
          "metadata": {},
          "execution_count": 11
        }
      ]
    },
    {
      "cell_type": "code",
      "source": [
        "#eliminar elementos de una lista\n",
        "estadistica_g44.remove('hugo')"
      ],
      "metadata": {
        "id": "RYihlOY2eJie"
      },
      "execution_count": 12,
      "outputs": []
    },
    {
      "cell_type": "code",
      "source": [
        "estadistica_g44"
      ],
      "metadata": {
        "colab": {
          "base_uri": "https://localhost:8080/"
        },
        "id": "YaEy8QqCeQTG",
        "outputId": "295699c0-c7ef-4696-abc2-407482bd2f2e"
      },
      "execution_count": 13,
      "outputs": [
        {
          "output_type": "execute_result",
          "data": {
            "text/plain": [
              "['andrea', 'ana', 'carlos', 'raul']"
            ]
          },
          "metadata": {},
          "execution_count": 13
        }
      ]
    },
    {
      "cell_type": "code",
      "source": [
        "yo_enFCFM = ['abigail','act','89']"
      ],
      "metadata": {
        "id": "sj3B-rZPeUgG"
      },
      "execution_count": 14,
      "outputs": []
    },
    {
      "cell_type": "code",
      "source": [
        "#darle un valor a una variable en base a una lista\n",
        "mi_promedio = yo_enFCFM[2]\n",
        "mi_carrera = yo_enFCFM[1]"
      ],
      "metadata": {
        "id": "YbeRKL6zejue"
      },
      "execution_count": 15,
      "outputs": []
    },
    {
      "cell_type": "code",
      "source": [
        "print('promedio:',mi_promedio,'mi carrera:',mi_carrera)"
      ],
      "metadata": {
        "colab": {
          "base_uri": "https://localhost:8080/"
        },
        "id": "hfF5pgdee0ci",
        "outputId": "6798ec9f-9cd7-46dd-c094-a50dc83cba1b"
      },
      "execution_count": 16,
      "outputs": [
        {
          "output_type": "stream",
          "name": "stdout",
          "text": [
            "promedio: 89 mi carrera: act\n"
          ]
        }
      ]
    },
    {
      "cell_type": "markdown",
      "source": [
        "# librerias/paquetes/modulos\n",
        "Una libreria en python es un conjunto de codigos que le indican a python como hacer determinadas cosas\n",
        "\n",
        "\n",
        "\n",
        "## Las librerias basicas son:\n",
        "\n",
        "numerical python o numpy = numerical python, le ayuda a python a manejar numeros en cualquier estructura\n",
        "\n",
        "pandas = para manejar datas\n",
        "\n",
        "matplotlib = es una graficadora\n",
        "\n",
        "statistical models = ayuda con modelos estadisticos\n",
        "\n",
        "\n",
        "## Para usar una libreria:\n",
        "1. primero se instala\n",
        "2. Se le indica a python que la utilica"
      ],
      "metadata": {
        "id": "3eO40EnwfIGp"
      }
    },
    {
      "cell_type": "code",
      "source": [
        "pip install yfinance"
      ],
      "metadata": {
        "colab": {
          "base_uri": "https://localhost:8080/"
        },
        "id": "JvLMwFv-gR6o",
        "outputId": "eb547825-c45a-4241-de6c-32bf1f739c48"
      },
      "execution_count": 18,
      "outputs": [
        {
          "output_type": "stream",
          "name": "stdout",
          "text": [
            "Requirement already satisfied: yfinance in /usr/local/lib/python3.10/dist-packages (0.2.27)\n",
            "Requirement already satisfied: pandas>=1.3.0 in /usr/local/lib/python3.10/dist-packages (from yfinance) (1.5.3)\n",
            "Requirement already satisfied: numpy>=1.16.5 in /usr/local/lib/python3.10/dist-packages (from yfinance) (1.23.5)\n",
            "Requirement already satisfied: requests>=2.31 in /usr/local/lib/python3.10/dist-packages (from yfinance) (2.31.0)\n",
            "Requirement already satisfied: multitasking>=0.0.7 in /usr/local/lib/python3.10/dist-packages (from yfinance) (0.0.11)\n",
            "Requirement already satisfied: lxml>=4.9.1 in /usr/local/lib/python3.10/dist-packages (from yfinance) (4.9.3)\n",
            "Requirement already satisfied: appdirs>=1.4.4 in /usr/local/lib/python3.10/dist-packages (from yfinance) (1.4.4)\n",
            "Requirement already satisfied: pytz>=2022.5 in /usr/local/lib/python3.10/dist-packages (from yfinance) (2022.7.1)\n",
            "Requirement already satisfied: frozendict>=2.3.4 in /usr/local/lib/python3.10/dist-packages (from yfinance) (2.3.8)\n",
            "Requirement already satisfied: beautifulsoup4>=4.11.1 in /usr/local/lib/python3.10/dist-packages (from yfinance) (4.11.2)\n",
            "Requirement already satisfied: html5lib>=1.1 in /usr/local/lib/python3.10/dist-packages (from yfinance) (1.1)\n",
            "Requirement already satisfied: soupsieve>1.2 in /usr/local/lib/python3.10/dist-packages (from beautifulsoup4>=4.11.1->yfinance) (2.4.1)\n",
            "Requirement already satisfied: six>=1.9 in /usr/local/lib/python3.10/dist-packages (from html5lib>=1.1->yfinance) (1.16.0)\n",
            "Requirement already satisfied: webencodings in /usr/local/lib/python3.10/dist-packages (from html5lib>=1.1->yfinance) (0.5.1)\n",
            "Requirement already satisfied: python-dateutil>=2.8.1 in /usr/local/lib/python3.10/dist-packages (from pandas>=1.3.0->yfinance) (2.8.2)\n",
            "Requirement already satisfied: charset-normalizer<4,>=2 in /usr/local/lib/python3.10/dist-packages (from requests>=2.31->yfinance) (3.2.0)\n",
            "Requirement already satisfied: idna<4,>=2.5 in /usr/local/lib/python3.10/dist-packages (from requests>=2.31->yfinance) (3.4)\n",
            "Requirement already satisfied: urllib3<3,>=1.21.1 in /usr/local/lib/python3.10/dist-packages (from requests>=2.31->yfinance) (1.26.16)\n",
            "Requirement already satisfied: certifi>=2017.4.17 in /usr/local/lib/python3.10/dist-packages (from requests>=2.31->yfinance) (2023.7.22)\n"
          ]
        }
      ]
    },
    {
      "cell_type": "code",
      "source": [
        "#tambien se le pueden poner abreviaciones a las librerias de la siguiente forma"
      ],
      "metadata": {
        "id": "vi2E6qrMk-kq"
      },
      "execution_count": null,
      "outputs": []
    },
    {
      "cell_type": "code",
      "source": [
        "import yfinance as yf"
      ],
      "metadata": {
        "id": "9EE_Ytg9kri8"
      },
      "execution_count": 20,
      "outputs": []
    },
    {
      "cell_type": "code",
      "source": [
        "yf.download('US.MX', '')"
      ],
      "metadata": {
        "id": "HAu_sIMbgWNn"
      },
      "execution_count": null,
      "outputs": []
    },
    {
      "cell_type": "markdown",
      "source": [
        "# Numpy (numerical python)\n",
        "Libreria que le sirve a python para manejra numeros\n",
        "\n",
        "La estructura basica de numpy son los arreglos. Y a su vez un arreglo es una coleccion de objetos del mismo tipo, la mayoria de las veces en caso de numpy son arreglos de tipo numerico"
      ],
      "metadata": {
        "id": "EtN_aHbIlGOC"
      }
    },
    {
      "cell_type": "markdown",
      "source": [
        "Vamos a suponer que tenemos la venta de aguas de la cafeteria de FCFM de la semana: Lunes 23, Martes 35, Miercoles 40, Jueves 28 y Viernes 20"
      ],
      "metadata": {
        "id": "99kdxL2BlhvR"
      }
    },
    {
      "cell_type": "code",
      "source": [
        "ventas = [23,35,40,28,20]"
      ],
      "metadata": {
        "id": "7Ghrs4wulyqZ"
      },
      "execution_count": 23,
      "outputs": []
    },
    {
      "cell_type": "code",
      "source": [
        "import numpy as np"
      ],
      "metadata": {
        "id": "cy8ab5uml55q"
      },
      "execution_count": 21,
      "outputs": []
    },
    {
      "cell_type": "code",
      "source": [
        "#convertir una lista en un arreglo\n",
        "ventas = np.array(ventas)"
      ],
      "metadata": {
        "id": "VQvUNy0CmKF5"
      },
      "execution_count": 24,
      "outputs": []
    },
    {
      "cell_type": "code",
      "source": [
        "type(ventas)"
      ],
      "metadata": {
        "colab": {
          "base_uri": "https://localhost:8080/"
        },
        "id": "kXAlzbKRmi8g",
        "outputId": "78c2f70c-cafc-4981-fdf0-307096e3b16e"
      },
      "execution_count": 25,
      "outputs": [
        {
          "output_type": "execute_result",
          "data": {
            "text/plain": [
              "numpy.ndarray"
            ]
          },
          "metadata": {},
          "execution_count": 25
        }
      ]
    },
    {
      "cell_type": "code",
      "source": [
        "ventas"
      ],
      "metadata": {
        "colab": {
          "base_uri": "https://localhost:8080/"
        },
        "id": "OsrVScHKmnKJ",
        "outputId": "75c0b296-d4a0-4134-9ccb-47c58be4f510"
      },
      "execution_count": 26,
      "outputs": [
        {
          "output_type": "execute_result",
          "data": {
            "text/plain": [
              "array([23, 35, 40, 28, 20])"
            ]
          },
          "metadata": {},
          "execution_count": 26
        }
      ]
    },
    {
      "cell_type": "code",
      "source": [
        "# funcion de suma\n",
        "np.sum(ventas)"
      ],
      "metadata": {
        "colab": {
          "base_uri": "https://localhost:8080/"
        },
        "id": "Sy38hGYvmqin",
        "outputId": "1747bc83-5008-48a0-f21e-b0472ddbf57f"
      },
      "execution_count": 27,
      "outputs": [
        {
          "output_type": "execute_result",
          "data": {
            "text/plain": [
              "146"
            ]
          },
          "metadata": {},
          "execution_count": 27
        }
      ]
    },
    {
      "cell_type": "code",
      "source": [
        "#Funcion de multiplicacion\n",
        "np.prod(ventas)"
      ],
      "metadata": {
        "colab": {
          "base_uri": "https://localhost:8080/"
        },
        "id": "HN1D5-xLm27E",
        "outputId": "e4948129-1c2c-4f45-beb8-90f86993011b"
      },
      "execution_count": 28,
      "outputs": [
        {
          "output_type": "execute_result",
          "data": {
            "text/plain": [
              "18032000"
            ]
          },
          "metadata": {},
          "execution_count": 28
        }
      ]
    },
    {
      "cell_type": "code",
      "source": [
        "#Funcion para el valor maximo\n",
        "np.max(ventas)"
      ],
      "metadata": {
        "colab": {
          "base_uri": "https://localhost:8080/"
        },
        "id": "H35Tgi6znBOu",
        "outputId": "2d3b3c72-4414-4a30-d088-7aaa284c930f"
      },
      "execution_count": 29,
      "outputs": [
        {
          "output_type": "execute_result",
          "data": {
            "text/plain": [
              "40"
            ]
          },
          "metadata": {},
          "execution_count": 29
        }
      ]
    },
    {
      "cell_type": "code",
      "source": [
        "#Funcion para el valor minimo\n",
        "np.min(ventas)"
      ],
      "metadata": {
        "colab": {
          "base_uri": "https://localhost:8080/"
        },
        "id": "EU7yXLuvnJyT",
        "outputId": "0160ae48-b61d-4f7c-ddd0-6231537c06e5"
      },
      "execution_count": 30,
      "outputs": [
        {
          "output_type": "execute_result",
          "data": {
            "text/plain": [
              "20"
            ]
          },
          "metadata": {},
          "execution_count": 30
        }
      ]
    },
    {
      "cell_type": "code",
      "source": [
        "#Funcion para sacar la media (promedio)\n",
        "np.mean(ventas)"
      ],
      "metadata": {
        "colab": {
          "base_uri": "https://localhost:8080/"
        },
        "id": "7BOWixw5nQ8s",
        "outputId": "6b96b653-1e51-44bc-d925-983141568e5b"
      },
      "execution_count": 31,
      "outputs": [
        {
          "output_type": "execute_result",
          "data": {
            "text/plain": [
              "29.2"
            ]
          },
          "metadata": {},
          "execution_count": 31
        }
      ]
    },
    {
      "cell_type": "code",
      "source": [
        "#funcion para sacar la mediana\n",
        "np.median(ventas)"
      ],
      "metadata": {
        "colab": {
          "base_uri": "https://localhost:8080/"
        },
        "id": "C0CxrvxDnakV",
        "outputId": "c17a58e3-e78a-4937-8511-447ff510a9a0"
      },
      "execution_count": 32,
      "outputs": [
        {
          "output_type": "execute_result",
          "data": {
            "text/plain": [
              "28.0"
            ]
          },
          "metadata": {},
          "execution_count": 32
        }
      ]
    },
    {
      "cell_type": "code",
      "source": [
        "#funcion para sacar la varianza\n",
        "np.var(ventas)"
      ],
      "metadata": {
        "colab": {
          "base_uri": "https://localhost:8080/"
        },
        "id": "RjklyeX8nmoT",
        "outputId": "233783c3-1487-4c35-8b08-b9d1ca0ec2bc"
      },
      "execution_count": 33,
      "outputs": [
        {
          "output_type": "execute_result",
          "data": {
            "text/plain": [
              "54.96"
            ]
          },
          "metadata": {},
          "execution_count": 33
        }
      ]
    },
    {
      "cell_type": "code",
      "source": [
        "#Funcion para sacar la desviacion estandar\n",
        "np.std(ventas)"
      ],
      "metadata": {
        "colab": {
          "base_uri": "https://localhost:8080/"
        },
        "id": "c2m11aQXntv7",
        "outputId": "f81b3e27-b3ee-4c67-887e-8eea876e5275"
      },
      "execution_count": 34,
      "outputs": [
        {
          "output_type": "execute_result",
          "data": {
            "text/plain": [
              "7.413501197140255"
            ]
          },
          "metadata": {},
          "execution_count": 34
        }
      ]
    },
    {
      "cell_type": "code",
      "source": [
        "#Funcion para sacar la varianza muestral\n",
        "np.var(ventas,ddof=1)"
      ],
      "metadata": {
        "colab": {
          "base_uri": "https://localhost:8080/"
        },
        "id": "nAEdu1c0nz9b",
        "outputId": "ca8a95c8-c3a1-4100-ad72-16ddd57909c0"
      },
      "execution_count": 36,
      "outputs": [
        {
          "output_type": "execute_result",
          "data": {
            "text/plain": [
              "68.7"
            ]
          },
          "metadata": {},
          "execution_count": 36
        }
      ]
    },
    {
      "cell_type": "code",
      "source": [
        "#Funcion para sacara la desviacion estandar muestral\n",
        "np.std(ventas,ddof=1)"
      ],
      "metadata": {
        "colab": {
          "base_uri": "https://localhost:8080/"
        },
        "id": "Z0CBK1Ntoitk",
        "outputId": "3d788d65-e0e9-47d3-d22d-3ae44d390e10"
      },
      "execution_count": 37,
      "outputs": [
        {
          "output_type": "execute_result",
          "data": {
            "text/plain": [
              "8.28854631404084"
            ]
          },
          "metadata": {},
          "execution_count": 37
        }
      ]
    },
    {
      "cell_type": "code",
      "source": [
        "#Generacion de vectores\n",
        "np.arange(9)"
      ],
      "metadata": {
        "colab": {
          "base_uri": "https://localhost:8080/"
        },
        "id": "MpUBSYYao07s",
        "outputId": "2b94c23c-d765-429b-d7d4-4ed3e270eae2"
      },
      "execution_count": 38,
      "outputs": [
        {
          "output_type": "execute_result",
          "data": {
            "text/plain": [
              "array([0, 1, 2, 3, 4, 5, 6, 7, 8])"
            ]
          },
          "metadata": {},
          "execution_count": 38
        }
      ]
    },
    {
      "cell_type": "code",
      "source": [
        "#generacin de vectores donde se especifica donde empieza\n",
        "np.arange(1,10)"
      ],
      "metadata": {
        "colab": {
          "base_uri": "https://localhost:8080/"
        },
        "id": "qOt1HmK0o_3j",
        "outputId": "83a8e3b1-b7aa-4ee9-ac5d-f71eff4062e6"
      },
      "execution_count": 40,
      "outputs": [
        {
          "output_type": "execute_result",
          "data": {
            "text/plain": [
              "array([1, 2, 3, 4, 5, 6, 7, 8, 9])"
            ]
          },
          "metadata": {},
          "execution_count": 40
        }
      ]
    },
    {
      "cell_type": "code",
      "source": [
        "#generacion de vectores donde se especifica donde empieza, donde termina y como va aumentando\n",
        "np.arange(1,100,15)"
      ],
      "metadata": {
        "colab": {
          "base_uri": "https://localhost:8080/"
        },
        "id": "s5Mfmj9epMyD",
        "outputId": "ed7d4aed-9482-436d-d596-5778262fc75d"
      },
      "execution_count": 41,
      "outputs": [
        {
          "output_type": "execute_result",
          "data": {
            "text/plain": [
              "array([ 1, 16, 31, 46, 61, 76, 91])"
            ]
          },
          "metadata": {},
          "execution_count": 41
        }
      ]
    },
    {
      "cell_type": "code",
      "source": [
        "#vector de ceros\n",
        "np.zeros(6)"
      ],
      "metadata": {
        "colab": {
          "base_uri": "https://localhost:8080/"
        },
        "id": "Taa0HVc0pYff",
        "outputId": "b5e17fbb-a3cc-43a0-c3fb-4117b8c5495a"
      },
      "execution_count": 42,
      "outputs": [
        {
          "output_type": "execute_result",
          "data": {
            "text/plain": [
              "array([0., 0., 0., 0., 0., 0.])"
            ]
          },
          "metadata": {},
          "execution_count": 42
        }
      ]
    },
    {
      "cell_type": "code",
      "source": [
        "\n",
        "#vector de unos\n",
        "np.ones(5)"
      ],
      "metadata": {
        "colab": {
          "base_uri": "https://localhost:8080/"
        },
        "id": "j3nzAARKpeJ8",
        "outputId": "3f764d31-eec9-44b5-f6b5-a89af3fe3237"
      },
      "execution_count": 43,
      "outputs": [
        {
          "output_type": "execute_result",
          "data": {
            "text/plain": [
              "array([1., 1., 1., 1., 1.])"
            ]
          },
          "metadata": {},
          "execution_count": 43
        }
      ]
    },
    {
      "cell_type": "code",
      "source": [
        "#vector de numeros diferentes\n",
        "np.full(6,8)"
      ],
      "metadata": {
        "colab": {
          "base_uri": "https://localhost:8080/"
        },
        "id": "6OEgO7DsplpN",
        "outputId": "291f75bc-2160-4595-bb19-c5c43494e27a"
      },
      "execution_count": 45,
      "outputs": [
        {
          "output_type": "execute_result",
          "data": {
            "text/plain": [
              "array([8, 8, 8, 8, 8, 8])"
            ]
          },
          "metadata": {},
          "execution_count": 45
        }
      ]
    },
    {
      "cell_type": "code",
      "source": [
        "#generacion de numeros aleatorios\n",
        "np.random.randint(0,25,10)\n",
        "#10 numeros aleatorios del 0 al 25"
      ],
      "metadata": {
        "colab": {
          "base_uri": "https://localhost:8080/"
        },
        "id": "MwEgCceMptZz",
        "outputId": "5b60e454-e329-4dfb-8fe9-c2f3e87f2949"
      },
      "execution_count": 46,
      "outputs": [
        {
          "output_type": "execute_result",
          "data": {
            "text/plain": [
              "array([17, 11,  6, 10, 19, 18, 12, 18,  1, 22])"
            ]
          },
          "metadata": {},
          "execution_count": 46
        }
      ]
    },
    {
      "cell_type": "code",
      "source": [
        "#generar numeros aleatorios y que cuando se vuelva a correr vuelvan a ser los mismos numeros aleatorios (FIJAR LA SEMILLA DE LA ALEATORIEDAD)-- garantiza que siempre sean los mismos numeros aleatorios\n",
        "np.random.seed(12)\n",
        "aleatorios = np.random.randint(0,25,10)"
      ],
      "metadata": {
        "id": "eLZzYkaZqA-d"
      },
      "execution_count": 47,
      "outputs": []
    },
    {
      "cell_type": "code",
      "source": [
        "#ordenar los numeros\n",
        "aleatorios = np.sort(aleatorios) # va a guardar el orden de los numeros"
      ],
      "metadata": {
        "id": "d2gn7Zn7qnPz"
      },
      "execution_count": 51,
      "outputs": []
    },
    {
      "cell_type": "code",
      "source": [
        "#contar los numeros aleatorios (cuantos hay)\n",
        "len(aleatorios)"
      ],
      "metadata": {
        "colab": {
          "base_uri": "https://localhost:8080/"
        },
        "id": "ix3mm0glq8gy",
        "outputId": "4596e9de-588d-4cfe-b7cb-0291fe86108d"
      },
      "execution_count": 52,
      "outputs": [
        {
          "output_type": "execute_result",
          "data": {
            "text/plain": [
              "10"
            ]
          },
          "metadata": {},
          "execution_count": 52
        }
      ]
    },
    {
      "cell_type": "code",
      "source": [
        "np.random.seed(19)\n",
        "aleatorios2 = np.random.randint(0,25,9)"
      ],
      "metadata": {
        "id": "g8qraGHcrHkO"
      },
      "execution_count": 53,
      "outputs": []
    },
    {
      "cell_type": "code",
      "source": [
        "#generar ua lista de numeros\n",
        "numeros=[2.45,9.89,12.4567]"
      ],
      "metadata": {
        "id": "fXdaH0PvrchN"
      },
      "execution_count": 55,
      "outputs": []
    },
    {
      "cell_type": "code",
      "source": [
        "#se va a convertir en arreglo, obtenemos media y redondeamos a dos decimales"
      ],
      "metadata": {
        "id": "vwuZoT0PrnE2"
      },
      "execution_count": null,
      "outputs": []
    },
    {
      "cell_type": "markdown",
      "source": [
        "1. convertir en arreglo\n",
        "2. Obtenemos la media\n",
        "3. Redondeamos a dos decimales\n",
        "\n",
        "*se va a hacer por medio de dos maneras por funcion y por metodo*"
      ],
      "metadata": {
        "id": "2QGzrwSRsh-v"
      }
    },
    {
      "cell_type": "code",
      "source": [
        "#Funcion\n",
        "round (np.mean(np.array(numeros)),2)\n",
        "\n",
        "#round (numero, decimales) -- funciona para redondear"
      ],
      "metadata": {
        "colab": {
          "base_uri": "https://localhost:8080/"
        },
        "id": "_MLAEV0ErCcp",
        "outputId": "21285a20-24bb-4b90-f048-09e2e4a40311"
      },
      "execution_count": 56,
      "outputs": [
        {
          "output_type": "execute_result",
          "data": {
            "text/plain": [
              "8.27"
            ]
          },
          "metadata": {},
          "execution_count": 56
        }
      ]
    },
    {
      "cell_type": "code",
      "source": [
        "#Metodo\n",
        "np.array(numeros).mean().round(2)"
      ],
      "metadata": {
        "colab": {
          "base_uri": "https://localhost:8080/"
        },
        "id": "efOeuVjcrEJb",
        "outputId": "4930243d-a440-4df1-f621-b45314b31537"
      },
      "execution_count": 58,
      "outputs": [
        {
          "output_type": "execute_result",
          "data": {
            "text/plain": [
              "8.27"
            ]
          },
          "metadata": {},
          "execution_count": 58
        }
      ]
    }
  ]
}