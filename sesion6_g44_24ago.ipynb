{
  "nbformat": 4,
  "nbformat_minor": 0,
  "metadata": {
    "colab": {
      "provenance": [],
      "mount_file_id": "1BCR8P33YMYV0Xej9y-De7_rofFuQgGPY",
      "authorship_tag": "ABX9TyMmbRuZrwJfdQQyJNzRpePm",
      "include_colab_link": true
    },
    "kernelspec": {
      "name": "python3",
      "display_name": "Python 3"
    },
    "language_info": {
      "name": "python"
    }
  },
  "cells": [
    {
      "cell_type": "markdown",
      "metadata": {
        "id": "view-in-github",
        "colab_type": "text"
      },
      "source": [
        "<a href=\"https://colab.research.google.com/github/AbbySnt/EstadisticaAplicada_1990002/blob/main/sesion6_g44_24ago.ipynb\" target=\"_parent\"><img src=\"https://colab.research.google.com/assets/colab-badge.svg\" alt=\"Open In Colab\"/></a>"
      ]
    },
    {
      "cell_type": "markdown",
      "source": [
        "#Estadistica Aplicada\n",
        "sesion6 -24 agosto\n",
        "\n",
        "Yessica Abigail Santiago Hernandez 1990002\n",
        "\n",
        "Gpo 44"
      ],
      "metadata": {
        "id": "25RyaZEWaJl1"
      }
    },
    {
      "cell_type": "code",
      "source": [
        "#librerias de cajon\n",
        "import numpy as np\n",
        "import pandas as pd\n",
        "import matplotlib.pyplot as plt\n",
        "%matplotlib inline\n",
        "\n",
        "#librerias especializadas\n",
        "import statsmodels.formula.api as smf"
      ],
      "metadata": {
        "id": "NmaujNHxaSiz"
      },
      "execution_count": 17,
      "outputs": []
    },
    {
      "cell_type": "code",
      "source": [
        "#Cargar los datos\n",
        "from google.colab import drive\n",
        "\n"
      ],
      "metadata": {
        "id": "5M60siKObQnz"
      },
      "execution_count": 50,
      "outputs": []
    },
    {
      "cell_type": "code",
      "source": [
        "drive.mount('/content/drive')\n"
      ],
      "metadata": {
        "colab": {
          "base_uri": "https://localhost:8080/"
        },
        "id": "BEDFe5ede8LO",
        "outputId": "8a09b3f6-a46a-45f2-ab23-0d715ef7efe6"
      },
      "execution_count": 51,
      "outputs": [
        {
          "output_type": "stream",
          "name": "stdout",
          "text": [
            "Drive already mounted at /content/drive; to attempt to forcibly remount, call drive.mount(\"/content/drive\", force_remount=True).\n"
          ]
        }
      ]
    },
    {
      "cell_type": "code",
      "source": [
        "datos = pd.read_excel('/content/drive/MyDrive/EA_YASH_1990002/modelolineal.xlsx')\n"
      ],
      "metadata": {
        "id": "ERChYF4KfU-k"
      },
      "execution_count": 52,
      "outputs": []
    },
    {
      "cell_type": "code",
      "source": [
        "datos = datos[['X','Y']]"
      ],
      "metadata": {
        "id": "gtSp7tcZctbH"
      },
      "execution_count": 53,
      "outputs": []
    },
    {
      "cell_type": "markdown",
      "source": [
        "#Ejecutar una regresion de Minimos cuadrados MCO"
      ],
      "metadata": {
        "id": "pgrCg1rmcyVm"
      }
    },
    {
      "cell_type": "code",
      "source": [
        "#estadisticas descriptivas\n",
        "datos.describe()"
      ],
      "metadata": {
        "colab": {
          "base_uri": "https://localhost:8080/",
          "height": 300
        },
        "id": "TDMoiVKbc1st",
        "outputId": "5ab0fad8-7911-46f1-e42f-24693d4b51f2"
      },
      "execution_count": 54,
      "outputs": [
        {
          "output_type": "execute_result",
          "data": {
            "text/plain": [
              "               X          Y\n",
              "count  30.000000  30.000000\n",
              "mean   17.333333  19.038965\n",
              "std     8.372094   5.689742\n",
              "min     0.000000   6.808838\n",
              "25%    12.250000  14.128834\n",
              "50%    19.000000  19.937977\n",
              "75%    23.000000  24.151130\n",
              "max    29.000000  28.422786"
            ],
            "text/html": [
              "\n",
              "  <div id=\"df-d6b63d64-9f91-49b9-adb4-d08e88ce7f48\" class=\"colab-df-container\">\n",
              "    <div>\n",
              "<style scoped>\n",
              "    .dataframe tbody tr th:only-of-type {\n",
              "        vertical-align: middle;\n",
              "    }\n",
              "\n",
              "    .dataframe tbody tr th {\n",
              "        vertical-align: top;\n",
              "    }\n",
              "\n",
              "    .dataframe thead th {\n",
              "        text-align: right;\n",
              "    }\n",
              "</style>\n",
              "<table border=\"1\" class=\"dataframe\">\n",
              "  <thead>\n",
              "    <tr style=\"text-align: right;\">\n",
              "      <th></th>\n",
              "      <th>X</th>\n",
              "      <th>Y</th>\n",
              "    </tr>\n",
              "  </thead>\n",
              "  <tbody>\n",
              "    <tr>\n",
              "      <th>count</th>\n",
              "      <td>30.000000</td>\n",
              "      <td>30.000000</td>\n",
              "    </tr>\n",
              "    <tr>\n",
              "      <th>mean</th>\n",
              "      <td>17.333333</td>\n",
              "      <td>19.038965</td>\n",
              "    </tr>\n",
              "    <tr>\n",
              "      <th>std</th>\n",
              "      <td>8.372094</td>\n",
              "      <td>5.689742</td>\n",
              "    </tr>\n",
              "    <tr>\n",
              "      <th>min</th>\n",
              "      <td>0.000000</td>\n",
              "      <td>6.808838</td>\n",
              "    </tr>\n",
              "    <tr>\n",
              "      <th>25%</th>\n",
              "      <td>12.250000</td>\n",
              "      <td>14.128834</td>\n",
              "    </tr>\n",
              "    <tr>\n",
              "      <th>50%</th>\n",
              "      <td>19.000000</td>\n",
              "      <td>19.937977</td>\n",
              "    </tr>\n",
              "    <tr>\n",
              "      <th>75%</th>\n",
              "      <td>23.000000</td>\n",
              "      <td>24.151130</td>\n",
              "    </tr>\n",
              "    <tr>\n",
              "      <th>max</th>\n",
              "      <td>29.000000</td>\n",
              "      <td>28.422786</td>\n",
              "    </tr>\n",
              "  </tbody>\n",
              "</table>\n",
              "</div>\n",
              "    <div class=\"colab-df-buttons\">\n",
              "\n",
              "  <div class=\"colab-df-container\">\n",
              "    <button class=\"colab-df-convert\" onclick=\"convertToInteractive('df-d6b63d64-9f91-49b9-adb4-d08e88ce7f48')\"\n",
              "            title=\"Convert this dataframe to an interactive table.\"\n",
              "            style=\"display:none;\">\n",
              "\n",
              "  <svg xmlns=\"http://www.w3.org/2000/svg\" height=\"24px\" viewBox=\"0 -960 960 960\">\n",
              "    <path d=\"M120-120v-720h720v720H120Zm60-500h600v-160H180v160Zm220 220h160v-160H400v160Zm0 220h160v-160H400v160ZM180-400h160v-160H180v160Zm440 0h160v-160H620v160ZM180-180h160v-160H180v160Zm440 0h160v-160H620v160Z\"/>\n",
              "  </svg>\n",
              "    </button>\n",
              "\n",
              "  <style>\n",
              "    .colab-df-container {\n",
              "      display:flex;\n",
              "      gap: 12px;\n",
              "    }\n",
              "\n",
              "    .colab-df-convert {\n",
              "      background-color: #E8F0FE;\n",
              "      border: none;\n",
              "      border-radius: 50%;\n",
              "      cursor: pointer;\n",
              "      display: none;\n",
              "      fill: #1967D2;\n",
              "      height: 32px;\n",
              "      padding: 0 0 0 0;\n",
              "      width: 32px;\n",
              "    }\n",
              "\n",
              "    .colab-df-convert:hover {\n",
              "      background-color: #E2EBFA;\n",
              "      box-shadow: 0px 1px 2px rgba(60, 64, 67, 0.3), 0px 1px 3px 1px rgba(60, 64, 67, 0.15);\n",
              "      fill: #174EA6;\n",
              "    }\n",
              "\n",
              "    .colab-df-buttons div {\n",
              "      margin-bottom: 4px;\n",
              "    }\n",
              "\n",
              "    [theme=dark] .colab-df-convert {\n",
              "      background-color: #3B4455;\n",
              "      fill: #D2E3FC;\n",
              "    }\n",
              "\n",
              "    [theme=dark] .colab-df-convert:hover {\n",
              "      background-color: #434B5C;\n",
              "      box-shadow: 0px 1px 3px 1px rgba(0, 0, 0, 0.15);\n",
              "      filter: drop-shadow(0px 1px 2px rgba(0, 0, 0, 0.3));\n",
              "      fill: #FFFFFF;\n",
              "    }\n",
              "  </style>\n",
              "\n",
              "    <script>\n",
              "      const buttonEl =\n",
              "        document.querySelector('#df-d6b63d64-9f91-49b9-adb4-d08e88ce7f48 button.colab-df-convert');\n",
              "      buttonEl.style.display =\n",
              "        google.colab.kernel.accessAllowed ? 'block' : 'none';\n",
              "\n",
              "      async function convertToInteractive(key) {\n",
              "        const element = document.querySelector('#df-d6b63d64-9f91-49b9-adb4-d08e88ce7f48');\n",
              "        const dataTable =\n",
              "          await google.colab.kernel.invokeFunction('convertToInteractive',\n",
              "                                                    [key], {});\n",
              "        if (!dataTable) return;\n",
              "\n",
              "        const docLinkHtml = 'Like what you see? Visit the ' +\n",
              "          '<a target=\"_blank\" href=https://colab.research.google.com/notebooks/data_table.ipynb>data table notebook</a>'\n",
              "          + ' to learn more about interactive tables.';\n",
              "        element.innerHTML = '';\n",
              "        dataTable['output_type'] = 'display_data';\n",
              "        await google.colab.output.renderOutput(dataTable, element);\n",
              "        const docLink = document.createElement('div');\n",
              "        docLink.innerHTML = docLinkHtml;\n",
              "        element.appendChild(docLink);\n",
              "      }\n",
              "    </script>\n",
              "  </div>\n",
              "\n",
              "\n",
              "<div id=\"df-047507a2-dcd4-410c-b003-0d88c711d5a9\">\n",
              "  <button class=\"colab-df-quickchart\" onclick=\"quickchart('df-047507a2-dcd4-410c-b003-0d88c711d5a9')\"\n",
              "            title=\"Suggest charts.\"\n",
              "            style=\"display:none;\">\n",
              "\n",
              "<svg xmlns=\"http://www.w3.org/2000/svg\" height=\"24px\"viewBox=\"0 0 24 24\"\n",
              "     width=\"24px\">\n",
              "    <g>\n",
              "        <path d=\"M19 3H5c-1.1 0-2 .9-2 2v14c0 1.1.9 2 2 2h14c1.1 0 2-.9 2-2V5c0-1.1-.9-2-2-2zM9 17H7v-7h2v7zm4 0h-2V7h2v10zm4 0h-2v-4h2v4z\"/>\n",
              "    </g>\n",
              "</svg>\n",
              "  </button>\n",
              "\n",
              "<style>\n",
              "  .colab-df-quickchart {\n",
              "    background-color: #E8F0FE;\n",
              "    border: none;\n",
              "    border-radius: 50%;\n",
              "    cursor: pointer;\n",
              "    display: none;\n",
              "    fill: #1967D2;\n",
              "    height: 32px;\n",
              "    padding: 0 0 0 0;\n",
              "    width: 32px;\n",
              "  }\n",
              "\n",
              "  .colab-df-quickchart:hover {\n",
              "    background-color: #E2EBFA;\n",
              "    box-shadow: 0px 1px 2px rgba(60, 64, 67, 0.3), 0px 1px 3px 1px rgba(60, 64, 67, 0.15);\n",
              "    fill: #174EA6;\n",
              "  }\n",
              "\n",
              "  [theme=dark] .colab-df-quickchart {\n",
              "    background-color: #3B4455;\n",
              "    fill: #D2E3FC;\n",
              "  }\n",
              "\n",
              "  [theme=dark] .colab-df-quickchart:hover {\n",
              "    background-color: #434B5C;\n",
              "    box-shadow: 0px 1px 3px 1px rgba(0, 0, 0, 0.15);\n",
              "    filter: drop-shadow(0px 1px 2px rgba(0, 0, 0, 0.3));\n",
              "    fill: #FFFFFF;\n",
              "  }\n",
              "</style>\n",
              "\n",
              "  <script>\n",
              "    async function quickchart(key) {\n",
              "      const charts = await google.colab.kernel.invokeFunction(\n",
              "          'suggestCharts', [key], {});\n",
              "    }\n",
              "    (() => {\n",
              "      let quickchartButtonEl =\n",
              "        document.querySelector('#df-047507a2-dcd4-410c-b003-0d88c711d5a9 button');\n",
              "      quickchartButtonEl.style.display =\n",
              "        google.colab.kernel.accessAllowed ? 'block' : 'none';\n",
              "    })();\n",
              "  </script>\n",
              "</div>\n",
              "    </div>\n",
              "  </div>\n"
            ]
          },
          "metadata": {},
          "execution_count": 54
        }
      ]
    },
    {
      "cell_type": "code",
      "source": [
        "#exploracion visual (graficar)\n",
        "plt.scatter(datos['X'], datos['Y'])\n",
        "plt.title('Grafico de dispersion X-Y')\n",
        "plt.xlabel('variable x')\n",
        "plt.ylabel('variable y')\n",
        "plt.show()"
      ],
      "metadata": {
        "colab": {
          "base_uri": "https://localhost:8080/",
          "height": 472
        },
        "id": "LvIqtfUhdQ-F",
        "outputId": "65907156-09de-4f03-a8ce-b61b836defb3"
      },
      "execution_count": 56,
      "outputs": [
        {
          "output_type": "display_data",
          "data": {
            "text/plain": [
              "<Figure size 640x480 with 1 Axes>"
            ],
            "image/png": "[encoded data removed]"
          },
          "metadata": {}
        }
      ]
    },
    {
      "cell_type": "markdown",
      "source": [
        "El grafico de dispersion muestra una relacion lineal de X-Y por lo tanto tiene sentido estimar un modelo de MCO"
      ],
      "metadata": {
        "id": "yoUgd7aFeEiI"
      }
    },
    {
      "cell_type": "code",
      "source": [
        "## estimar un modelo\n",
        "#1 especificar el modelo\n",
        "reg = smf.ols(formula ='Y~X',data=datos)\n",
        "#2 estimar el modelo\n",
        "results = reg.fit()\n",
        "#3 decirlo python que no lo muestre\n",
        "print(results.summary())"
      ],
      "metadata": {
        "colab": {
          "base_uri": "https://localhost:8080/"
        },
        "id": "BMndT1EueU0m",
        "outputId": "dc0e089c-5880-4908-903d-979bd19f0e7f"
      },
      "execution_count": 27,
      "outputs": [
        {
          "output_type": "stream",
          "name": "stdout",
          "text": [
            "                            OLS Regression Results                            \n",
            "==============================================================================\n",
            "Dep. Variable:                      Y   R-squared:                       0.732\n",
            "Model:                            OLS   Adj. R-squared:                  0.722\n",
            "Method:                 Least Squares   F-statistic:                     76.40\n",
            "Date:                Thu, 24 Aug 2023   Prob (F-statistic):           1.72e-09\n",
            "Time:                        16:58:09   Log-Likelihood:                -74.480\n",
            "No. Observations:                  30   AIC:                             153.0\n",
            "Df Residuals:                      28   BIC:                             155.8\n",
            "Df Model:                           1                                         \n",
            "Covariance Type:            nonrobust                                         \n",
            "==============================================================================\n",
            "                 coef    std err          t      P>|t|      [0.025      0.975]\n",
            "------------------------------------------------------------------------------\n",
            "Intercept      8.9619      1.276      7.022      0.000       6.347      11.576\n",
            "X              0.5814      0.067      8.740      0.000       0.445       0.718\n",
            "==============================================================================\n",
            "Omnibus:                        0.249   Durbin-Watson:                   1.658\n",
            "Prob(Omnibus):                  0.883   Jarque-Bera (JB):                0.440\n",
            "Skew:                           0.121   Prob(JB):                        0.803\n",
            "Kurtosis:                       2.459   Cond. No.                         44.8\n",
            "==============================================================================\n",
            "\n",
            "Notes:\n",
            "[1] Standard Errors assume that the covariance matrix of the errors is correctly specified.\n"
          ]
        }
      ]
    },
    {
      "cell_type": "markdown",
      "source": [
        "t es el estadistico t. p valor es P>/t/\n",
        "intercepto: p-valo< alfa por lo tanto rechazamos H0 lo cual significa que el intercepto no pasa por el origen, 8.96 I.C(6.34-11.57)\n",
        "B1 : p-valor < alfa rechazamos h0 significa que beta1 es estadisticamente distinto de cero\n",
        "en promedio cuando x aumenta 1 unidad, y aumenta 0.58"
      ],
      "metadata": {
        "id": "c06SbKdzhZk7"
      }
    },
    {
      "cell_type": "markdown",
      "source": [
        "## validacion cruzada\n",
        "R**2\n",
        "\n",
        "MAD = (1/n) SUMATORIA (|y-YGORRO|)\n",
        "\n",
        "MAPE = (1/n) SUMATORIA (|(y-yGORRO)/(y)|)\n",
        "\n",
        "MSD = (1/n) ...\n"
      ],
      "metadata": {
        "id": "8f0OYWuFiqJn"
      }
    },
    {
      "cell_type": "code",
      "source": [
        "#Calcular MAD\n",
        "# 1ro calcular la Y estimada\n",
        "datos['Y_hat']=results.predict(datos['X'])"
      ],
      "metadata": {
        "id": "_NuBpUX0jTzI"
      },
      "execution_count": 57,
      "outputs": []
    },
    {
      "cell_type": "code",
      "source": [
        "datos.head()"
      ],
      "metadata": {
        "colab": {
          "base_uri": "https://localhost:8080/",
          "height": 206
        },
        "id": "7pO5DUQ7jwVy",
        "outputId": "c3f68dfe-ba20-4a4d-f331-c369ef936b49"
      },
      "execution_count": 58,
      "outputs": [
        {
          "output_type": "execute_result",
          "data": {
            "text/plain": [
              "    X          Y      Y_hat\n",
              "0  23  19.246957  22.333385\n",
              "1  19  16.878501  20.007912\n",
              "2  27  20.187237  24.658857\n",
              "3  13  12.176789  16.519703\n",
              "4  21  21.420112  21.170648"
            ],
            "text/html": [
              "\n",
              "  <div id=\"df-09daf5d4-be97-4b85-a1dd-6052553037f0\" class=\"colab-df-container\">\n",
              "    <div>\n",
              "<style scoped>\n",
              "    .dataframe tbody tr th:only-of-type {\n",
              "        vertical-align: middle;\n",
              "    }\n",
              "\n",
              "    .dataframe tbody tr th {\n",
              "        vertical-align: top;\n",
              "    }\n",
              "\n",
              "    .dataframe thead th {\n",
              "        text-align: right;\n",
              "    }\n",
              "</style>\n",
              "<table border=\"1\" class=\"dataframe\">\n",
              "  <thead>\n",
              "    <tr style=\"text-align: right;\">\n",
              "      <th></th>\n",
              "      <th>X</th>\n",
              "      <th>Y</th>\n",
              "      <th>Y_hat</th>\n",
              "    </tr>\n",
              "  </thead>\n",
              "  <tbody>\n",
              "    <tr>\n",
              "      <th>0</th>\n",
              "      <td>23</td>\n",
              "      <td>19.246957</td>\n",
              "      <td>22.333385</td>\n",
              "    </tr>\n",
              "    <tr>\n",
              "      <th>1</th>\n",
              "      <td>19</td>\n",
              "      <td>16.878501</td>\n",
              "      <td>20.007912</td>\n",
              "    </tr>\n",
              "    <tr>\n",
              "      <th>2</th>\n",
              "      <td>27</td>\n",
              "      <td>20.187237</td>\n",
              "      <td>24.658857</td>\n",
              "    </tr>\n",
              "    <tr>\n",
              "      <th>3</th>\n",
              "      <td>13</td>\n",
              "      <td>12.176789</td>\n",
              "      <td>16.519703</td>\n",
              "    </tr>\n",
              "    <tr>\n",
              "      <th>4</th>\n",
              "      <td>21</td>\n",
              "      <td>21.420112</td>\n",
              "      <td>21.170648</td>\n",
              "    </tr>\n",
              "  </tbody>\n",
              "</table>\n",
              "</div>\n",
              "    <div class=\"colab-df-buttons\">\n",
              "\n",
              "  <div class=\"colab-df-container\">\n",
              "    <button class=\"colab-df-convert\" onclick=\"convertToInteractive('df-09daf5d4-be97-4b85-a1dd-6052553037f0')\"\n",
              "            title=\"Convert this dataframe to an interactive table.\"\n",
              "            style=\"display:none;\">\n",
              "\n",
              "  <svg xmlns=\"http://www.w3.org/2000/svg\" height=\"24px\" viewBox=\"0 -960 960 960\">\n",
              "    <path d=\"M120-120v-720h720v720H120Zm60-500h600v-160H180v160Zm220 220h160v-160H400v160Zm0 220h160v-160H400v160ZM180-400h160v-160H180v160Zm440 0h160v-160H620v160ZM180-180h160v-160H180v160Zm440 0h160v-160H620v160Z\"/>\n",
              "  </svg>\n",
              "    </button>\n",
              "\n",
              "  <style>\n",
              "    .colab-df-container {\n",
              "      display:flex;\n",
              "      gap: 12px;\n",
              "    }\n",
              "\n",
              "    .colab-df-convert {\n",
              "      background-color: #E8F0FE;\n",
              "      border: none;\n",
              "      border-radius: 50%;\n",
              "      cursor: pointer;\n",
              "      display: none;\n",
              "      fill: #1967D2;\n",
              "      height: 32px;\n",
              "      padding: 0 0 0 0;\n",
              "      width: 32px;\n",
              "    }\n",
              "\n",
              "    .colab-df-convert:hover {\n",
              "      background-color: #E2EBFA;\n",
              "      box-shadow: 0px 1px 2px rgba(60, 64, 67, 0.3), 0px 1px 3px 1px rgba(60, 64, 67, 0.15);\n",
              "      fill: #174EA6;\n",
              "    }\n",
              "\n",
              "    .colab-df-buttons div {\n",
              "      margin-bottom: 4px;\n",
              "    }\n",
              "\n",
              "    [theme=dark] .colab-df-convert {\n",
              "      background-color: #3B4455;\n",
              "      fill: #D2E3FC;\n",
              "    }\n",
              "\n",
              "    [theme=dark] .colab-df-convert:hover {\n",
              "      background-color: #434B5C;\n",
              "      box-shadow: 0px 1px 3px 1px rgba(0, 0, 0, 0.15);\n",
              "      filter: drop-shadow(0px 1px 2px rgba(0, 0, 0, 0.3));\n",
              "      fill: #FFFFFF;\n",
              "    }\n",
              "  </style>\n",
              "\n",
              "    <script>\n",
              "      const buttonEl =\n",
              "        document.querySelector('#df-09daf5d4-be97-4b85-a1dd-6052553037f0 button.colab-df-convert');\n",
              "      buttonEl.style.display =\n",
              "        google.colab.kernel.accessAllowed ? 'block' : 'none';\n",
              "\n",
              "      async function convertToInteractive(key) {\n",
              "        const element = document.querySelector('#df-09daf5d4-be97-4b85-a1dd-6052553037f0');\n",
              "        const dataTable =\n",
              "          await google.colab.kernel.invokeFunction('convertToInteractive',\n",
              "                                                    [key], {});\n",
              "        if (!dataTable) return;\n",
              "\n",
              "        const docLinkHtml = 'Like what you see? Visit the ' +\n",
              "          '<a target=\"_blank\" href=https://colab.research.google.com/notebooks/data_table.ipynb>data table notebook</a>'\n",
              "          + ' to learn more about interactive tables.';\n",
              "        element.innerHTML = '';\n",
              "        dataTable['output_type'] = 'display_data';\n",
              "        await google.colab.output.renderOutput(dataTable, element);\n",
              "        const docLink = document.createElement('div');\n",
              "        docLink.innerHTML = docLinkHtml;\n",
              "        element.appendChild(docLink);\n",
              "      }\n",
              "    </script>\n",
              "  </div>\n",
              "\n",
              "\n",
              "<div id=\"df-6a893681-561b-49f8-b8f2-07e06b43b8e5\">\n",
              "  <button class=\"colab-df-quickchart\" onclick=\"quickchart('df-6a893681-561b-49f8-b8f2-07e06b43b8e5')\"\n",
              "            title=\"Suggest charts.\"\n",
              "            style=\"display:none;\">\n",
              "\n",
              "<svg xmlns=\"http://www.w3.org/2000/svg\" height=\"24px\"viewBox=\"0 0 24 24\"\n",
              "     width=\"24px\">\n",
              "    <g>\n",
              "        <path d=\"M19 3H5c-1.1 0-2 .9-2 2v14c0 1.1.9 2 2 2h14c1.1 0 2-.9 2-2V5c0-1.1-.9-2-2-2zM9 17H7v-7h2v7zm4 0h-2V7h2v10zm4 0h-2v-4h2v4z\"/>\n",
              "    </g>\n",
              "</svg>\n",
              "  </button>\n",
              "\n",
              "<style>\n",
              "  .colab-df-quickchart {\n",
              "    background-color: #E8F0FE;\n",
              "    border: none;\n",
              "    border-radius: 50%;\n",
              "    cursor: pointer;\n",
              "    display: none;\n",
              "    fill: #1967D2;\n",
              "    height: 32px;\n",
              "    padding: 0 0 0 0;\n",
              "    width: 32px;\n",
              "  }\n",
              "\n",
              "  .colab-df-quickchart:hover {\n",
              "    background-color: #E2EBFA;\n",
              "    box-shadow: 0px 1px 2px rgba(60, 64, 67, 0.3), 0px 1px 3px 1px rgba(60, 64, 67, 0.15);\n",
              "    fill: #174EA6;\n",
              "  }\n",
              "\n",
              "  [theme=dark] .colab-df-quickchart {\n",
              "    background-color: #3B4455;\n",
              "    fill: #D2E3FC;\n",
              "  }\n",
              "\n",
              "  [theme=dark] .colab-df-quickchart:hover {\n",
              "    background-color: #434B5C;\n",
              "    box-shadow: 0px 1px 3px 1px rgba(0, 0, 0, 0.15);\n",
              "    filter: drop-shadow(0px 1px 2px rgba(0, 0, 0, 0.3));\n",
              "    fill: #FFFFFF;\n",
              "  }\n",
              "</style>\n",
              "\n",
              "  <script>\n",
              "    async function quickchart(key) {\n",
              "      const charts = await google.colab.kernel.invokeFunction(\n",
              "          'suggestCharts', [key], {});\n",
              "    }\n",
              "    (() => {\n",
              "      let quickchartButtonEl =\n",
              "        document.querySelector('#df-6a893681-561b-49f8-b8f2-07e06b43b8e5 button');\n",
              "      quickchartButtonEl.style.display =\n",
              "        google.colab.kernel.accessAllowed ? 'block' : 'none';\n",
              "    })();\n",
              "  </script>\n",
              "</div>\n",
              "    </div>\n",
              "  </div>\n"
            ]
          },
          "metadata": {},
          "execution_count": 58
        }
      ]
    },
    {
      "cell_type": "code",
      "source": [
        "datos['X2'] = datos['X']**2"
      ],
      "metadata": {
        "id": "vG_KCiEZkWpO"
      },
      "execution_count": 59,
      "outputs": []
    },
    {
      "cell_type": "code",
      "source": [
        "#MAD\n",
        "MAD_m1 = (datos['Y']-datos['Y_hat']).abs().mean()\n"
      ],
      "metadata": {
        "id": "Tt75203bj6cN"
      },
      "execution_count": 60,
      "outputs": []
    },
    {
      "cell_type": "code",
      "source": [
        "MAD_m1"
      ],
      "metadata": {
        "colab": {
          "base_uri": "https://localhost:8080/"
        },
        "id": "sQY8Hge3kNhn",
        "outputId": "ea030f49-4e26-468e-db88-093fd3472298"
      },
      "execution_count": 61,
      "outputs": [
        {
          "output_type": "execute_result",
          "data": {
            "text/plain": [
              "2.354303480378995"
            ]
          },
          "metadata": {},
          "execution_count": 61
        }
      ]
    },
    {
      "cell_type": "markdown",
      "source": [
        "Estimar $Y = \\beta_1X + \\beta_2X^2$\n",
        "\n",
        "\n",
        "\n"
      ],
      "metadata": {
        "id": "7p0-YoO1k0W_"
      }
    },
    {
      "cell_type": "code",
      "source": [
        "#Especificar modelo\n",
        "reg2 = smf.ols(formula = 'Y~X+X2',data =datos)\n",
        "\n",
        "#Estimamos\n",
        "results2 = reg2.fit()\n",
        "\n",
        "#Mostramos\n",
        "print(results2.summary())"
      ],
      "metadata": {
        "colab": {
          "base_uri": "https://localhost:8080/"
        },
        "id": "cQem_fvwlB84",
        "outputId": "56531bcf-ca8b-40c6-ea2c-682b92250126"
      },
      "execution_count": 62,
      "outputs": [
        {
          "output_type": "stream",
          "name": "stdout",
          "text": [
            "                            OLS Regression Results                            \n",
            "==============================================================================\n",
            "Dep. Variable:                      Y   R-squared:                       0.732\n",
            "Model:                            OLS   Adj. R-squared:                  0.712\n",
            "Method:                 Least Squares   F-statistic:                     36.85\n",
            "Date:                Thu, 24 Aug 2023   Prob (F-statistic):           1.92e-08\n",
            "Time:                        17:27:27   Log-Likelihood:                -74.475\n",
            "No. Observations:                  30   AIC:                             155.0\n",
            "Df Residuals:                      27   BIC:                             159.2\n",
            "Df Model:                           2                                         \n",
            "Covariance Type:            nonrobust                                         \n",
            "==============================================================================\n",
            "                 coef    std err          t      P>|t|      [0.025      0.975]\n",
            "------------------------------------------------------------------------------\n",
            "Intercept      8.8518      1.790      4.945      0.000       5.179      12.525\n",
            "X              0.6029      0.250      2.408      0.023       0.089       1.117\n",
            "X2            -0.0007      0.008     -0.089      0.929      -0.017       0.016\n",
            "==============================================================================\n",
            "Omnibus:                        0.249   Durbin-Watson:                   1.654\n",
            "Prob(Omnibus):                  0.883   Jarque-Bera (JB):                0.443\n",
            "Skew:                           0.104   Prob(JB):                        0.802\n",
            "Kurtosis:                       2.442   Cond. No.                     1.45e+03\n",
            "==============================================================================\n",
            "\n",
            "Notes:\n",
            "[1] Standard Errors assume that the covariance matrix of the errors is correctly specified.\n",
            "[2] The condition number is large, 1.45e+03. This might indicate that there are\n",
            "strong multicollinearity or other numerical problems.\n"
          ]
        }
      ]
    },
    {
      "cell_type": "code",
      "source": [
        "datos['Y_hat2']= results2.predict(datos[['X','X2']])"
      ],
      "metadata": {
        "id": "7ED6Lo5WlspT"
      },
      "execution_count": 63,
      "outputs": []
    },
    {
      "cell_type": "code",
      "source": [
        "MAD_m2 = (datos['Y']-datos['Y_hat2']).abs().mean()"
      ],
      "metadata": {
        "id": "KkYLHJCQl4Ow"
      },
      "execution_count": 68,
      "outputs": []
    },
    {
      "cell_type": "code",
      "source": [
        "print(MAD_m1.round(3),MAD_m2.round(3))"
      ],
      "metadata": {
        "colab": {
          "base_uri": "https://localhost:8080/"
        },
        "id": "ZPAqsrUvmJwQ",
        "outputId": "2988173c-49d7-43a9-f643-f4a1fc3e390c"
      },
      "execution_count": 69,
      "outputs": [
        {
          "output_type": "stream",
          "name": "stdout",
          "text": [
            "2.354 2.355\n"
          ]
        }
      ]
    },
    {
      "cell_type": "markdown",
      "source": [
        "De acuerdo con el MAD el mejor modelo es el 1: $Y = \\beta_0 - \\beta_1$"
      ],
      "metadata": {
        "id": "s4N47Vq9mZqo"
      }
    },
    {
      "cell_type": "markdown",
      "source": [
        "## Validacion cruzada\n"
      ],
      "metadata": {
        "id": "98Tn52S4s6MC"
      }
    },
    {
      "cell_type": "code",
      "source": [
        "datos = pd.read_excel('/content/drive/MyDrive/EA_YASH_1990002/modelolineal.xlsx')\n",
        "datos = datos [['X','Y']]"
      ],
      "metadata": {
        "id": "Waqjl2O1tfJZ"
      },
      "execution_count": 73,
      "outputs": []
    },
    {
      "cell_type": "code",
      "source": [
        "#Definir el conjunto de entrenamiento\n",
        "train_set = datos.iloc[:20]\n",
        "#Definir el conjunto de evaluacion\n",
        "test_set = datos.iloc[20:]\n"
      ],
      "metadata": {
        "id": "5U0fe2AXs9f5"
      },
      "execution_count": 74,
      "outputs": []
    },
    {
      "cell_type": "code",
      "source": [
        "#estimamos el modelo con el conjunto de entranamiento\n",
        "##especificacion\n",
        "reg3 = smf.ols(formula = 'Y~X',data = train_set)\n",
        "\n",
        "##estimacion\n",
        "results3 = reg3.fit()\n",
        "\n",
        "## mostrar modelo\n",
        "print(results3.summary())"
      ],
      "metadata": {
        "colab": {
          "base_uri": "https://localhost:8080/"
        },
        "id": "d9cilJ9cttG3",
        "outputId": "a2a3bb80-57ec-4371-f268-cb23ffa80843"
      },
      "execution_count": 77,
      "outputs": [
        {
          "output_type": "stream",
          "name": "stdout",
          "text": [
            "                            OLS Regression Results                            \n",
            "==============================================================================\n",
            "Dep. Variable:                      Y   R-squared:                       0.615\n",
            "Model:                            OLS   Adj. R-squared:                  0.594\n",
            "Method:                 Least Squares   F-statistic:                     28.80\n",
            "Date:                Thu, 24 Aug 2023   Prob (F-statistic):           4.23e-05\n",
            "Time:                        17:54:57   Log-Likelihood:                -51.332\n",
            "No. Observations:                  20   AIC:                             106.7\n",
            "Df Residuals:                      18   BIC:                             108.7\n",
            "Df Model:                           1                                         \n",
            "Covariance Type:            nonrobust                                         \n",
            "==============================================================================\n",
            "                 coef    std err          t      P>|t|      [0.025      0.975]\n",
            "------------------------------------------------------------------------------\n",
            "Intercept      9.2336      2.008      4.598      0.000       5.015      13.453\n",
            "X              0.5442      0.101      5.367      0.000       0.331       0.757\n",
            "==============================================================================\n",
            "Omnibus:                        0.757   Durbin-Watson:                   1.723\n",
            "Prob(Omnibus):                  0.685   Jarque-Bera (JB):                0.748\n",
            "Skew:                           0.383   Prob(JB):                        0.688\n",
            "Kurtosis:                       2.442   Cond. No.                         53.7\n",
            "==============================================================================\n",
            "\n",
            "Notes:\n",
            "[1] Standard Errors assume that the covariance matrix of the errors is correctly specified.\n"
          ]
        }
      ]
    },
    {
      "cell_type": "code",
      "source": [
        "#evaluamos el modelo con el conjunto de evaluacion\n",
        "test_set['Y_hat'] = results3.params[0]+results3.params[1]*test_set['X']"
      ],
      "metadata": {
        "colab": {
          "base_uri": "https://localhost:8080/"
        },
        "id": "czTv6Q9zuTcT",
        "outputId": "d260c725-b8d5-42e5-add7-7ba37c01757e"
      },
      "execution_count": 80,
      "outputs": [
        {
          "output_type": "stream",
          "name": "stderr",
          "text": [
            "<ipython-input-80-92cce9278a2e>:2: SettingWithCopyWarning: \n",
            "A value is trying to be set on a copy of a slice from a DataFrame.\n",
            "Try using .loc[row_indexer,col_indexer] = value instead\n",
            "\n",
            "See the caveats in the documentation: https://pandas.pydata.org/pandas-docs/stable/user_guide/indexing.html#returning-a-view-versus-a-copy\n",
            "  test_set['Y_hat'] = results3.params[0]+results3.params[1]*test_set['X']\n"
          ]
        }
      ]
    },
    {
      "cell_type": "code",
      "source": [
        "# calcular MAD\n",
        "MAD_ts1 = (test_set['Y']-test_set['Y_hat']).abs().mean()"
      ],
      "metadata": {
        "id": "dROpJNwhvcnW"
      },
      "execution_count": 82,
      "outputs": []
    },
    {
      "cell_type": "code",
      "source": [
        "# Crear el cuadrado\n",
        "train_set['X2'] = train_set['X']**2\n",
        "test_set['X2'] = test_set['X']**2\n",
        "\n",
        "## estimar y=b+ b1x +b2x2\n",
        "reg4 = smf.ols(formula = 'Y~X+X2', data = train_set)\n",
        "results4 = reg4.fit()\n",
        "\n",
        "#calculamos estimado\n",
        "test_set['Y_hat2'] = results.params[0]+results.params[1]*test_set['X']+results4.params[2]*test_set['X2']\n",
        "\n",
        "#calculamos MAD\n",
        "MAD_ts2 = (test_set['Y']-test_set['Y_hat2']).abs().mean()"
      ],
      "metadata": {
        "colab": {
          "base_uri": "https://localhost:8080/"
        },
        "id": "_N62gGyovyv7",
        "outputId": "1cc89603-ebd9-48e0-9d77-9bdc7d044582"
      },
      "execution_count": 86,
      "outputs": [
        {
          "output_type": "stream",
          "name": "stderr",
          "text": [
            "<ipython-input-86-822189818c56>:2: SettingWithCopyWarning: \n",
            "A value is trying to be set on a copy of a slice from a DataFrame.\n",
            "Try using .loc[row_indexer,col_indexer] = value instead\n",
            "\n",
            "See the caveats in the documentation: https://pandas.pydata.org/pandas-docs/stable/user_guide/indexing.html#returning-a-view-versus-a-copy\n",
            "  train_set['X2'] = train_set['X']**2\n",
            "<ipython-input-86-822189818c56>:3: SettingWithCopyWarning: \n",
            "A value is trying to be set on a copy of a slice from a DataFrame.\n",
            "Try using .loc[row_indexer,col_indexer] = value instead\n",
            "\n",
            "See the caveats in the documentation: https://pandas.pydata.org/pandas-docs/stable/user_guide/indexing.html#returning-a-view-versus-a-copy\n",
            "  test_set['X2'] = test_set['X']**2\n",
            "<ipython-input-86-822189818c56>:10: SettingWithCopyWarning: \n",
            "A value is trying to be set on a copy of a slice from a DataFrame.\n",
            "Try using .loc[row_indexer,col_indexer] = value instead\n",
            "\n",
            "See the caveats in the documentation: https://pandas.pydata.org/pandas-docs/stable/user_guide/indexing.html#returning-a-view-versus-a-copy\n",
            "  test_set['Y_hat2'] = results.params[0]+results.params[1]*test_set['X']+results4.params[2]*test_set['X2']\n"
          ]
        }
      ]
    },
    {
      "cell_type": "code",
      "source": [
        "print(MAD_ts1.round(3), MAD_ts2.round(3))"
      ],
      "metadata": {
        "colab": {
          "base_uri": "https://localhost:8080/"
        },
        "id": "BB0tumKdxR3W",
        "outputId": "445db2a8-1752-45a6-9f5a-04e4439f015a"
      },
      "execution_count": 88,
      "outputs": [
        {
          "output_type": "stream",
          "name": "stdout",
          "text": [
            "2.108 3.355\n"
          ]
        }
      ]
    },
    {
      "cell_type": "markdown",
      "source": [
        "$ Y = \\beta_0 +\\beta_1 X$ es mejor modelo que $Y = \\beta_0 +\\beta_1 X+\\beta_2 X^2 $ de acuerdo a MAD y utilizando validacion cruzada"
      ],
      "metadata": {
        "id": "xCbx1Md6ynDu"
      }
    }
  ]
}